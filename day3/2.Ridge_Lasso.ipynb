{
 "cells": [
  {
   "cell_type": "markdown",
   "source": [
    "# Ridge"
   ],
   "metadata": {
    "collapsed": false
   }
  },
  {
   "cell_type": "code",
   "execution_count": 3,
   "metadata": {
    "collapsed": true
   },
   "outputs": [
    {
     "name": "stdout",
     "output_type": "stream",
     "text": [
      "(816, 8) (204, 8) (816,) (204,)\n",
      "규제 alpha: 0.001\n",
      "0.6309898605547735\n",
      "0.5513057017837056\n",
      "____________________________________________________________________________________________________\n",
      "규제 alpha: 0.01\n",
      "0.6309892747690775\n",
      "0.5513247273373771\n",
      "____________________________________________________________________________________________________\n",
      "규제 alpha: 0.1\n",
      "0.6309365404773541\n",
      "0.551514668499284\n",
      "____________________________________________________________________________________________________\n",
      "규제 alpha: 1\n",
      "0.628248933035134\n",
      "0.553390676213025\n",
      "____________________________________________________________________________________________________\n",
      "규제 alpha: 10\n",
      "0.5756356568312702\n",
      "0.5322612390109538\n",
      "____________________________________________________________________________________________________\n",
      "규제 alpha: 100\n",
      "0.27922147762060834\n",
      "0.2667990688792803\n",
      "____________________________________________________________________________________________________\n"
     ]
    }
   ],
   "source": [
    "import pandas as pd\n",
    "from sklearn.model_selection import train_test_split\n",
    "from sklearn.preprocessing import MinMaxScaler\n",
    "from sklearn.linear_model import Ridge\n",
    "\n",
    "# 데이터 가져오기 및 feature / target 생성\n",
    "concrete = pd.read_csv(\"../contents/concrete_na.csv\")\n",
    "concrete.dropna(how=\"any\", inplace=True)\n",
    "input = concrete.drop(\"strength\", axis=1)\n",
    "target = concrete[\"strength\"]\n",
    "\n",
    "# train / test 데이터 분리\n",
    "X_train, X_test, y_train, y_test = train_test_split(input, target, test_size=0.2, shuffle=True) # shuffle : 큰 값과 작은 값을 섞기\n",
    "print(X_train.shape, X_test.shape, y_train.shape, y_test.shape)\n",
    "\n",
    "# min-max 스케일링\n",
    "mms = MinMaxScaler()  #변환기\n",
    "mms.fit(X_train)  #기준설정: 최소값, 최대값 설정\n",
    "X_train_mms = mms.transform(X_train)\n",
    "X_test_mms = mms.transform(X_test)  #scaling(이동)\n",
    "\n",
    "# ridge 규제 반영\n",
    "penalties = [0.001, 0.01, 0.1, 1, 10, 100]\n",
    "for i in penalties:\n",
    "    ridge = Ridge(alpha=i)\n",
    "    ridge.fit(X_train_mms, y_train)\n",
    "\n",
    "    print(\"규제 alpha:\", i)\n",
    "    print(ridge.score(X_train_mms, y_train))\n",
    "    print(ridge.score(X_test_mms, y_test))\n",
    "    print(\"_\" * 100)\n"
   ]
  },
  {
   "cell_type": "markdown",
   "source": [
    "# Lasso"
   ],
   "metadata": {
    "collapsed": false
   }
  },
  {
   "cell_type": "code",
   "execution_count": 4,
   "outputs": [
    {
     "name": "stdout",
     "output_type": "stream",
     "text": [
      "규제 알파: i 0.001\n",
      "0.6309840332299318\n",
      "0.5511539726715988\n",
      "----------------------------------------------------------------------------------------------------\n",
      "규제 알파: i 0.01\n",
      "0.630411390624476\n",
      "0.5492504368556521\n",
      "----------------------------------------------------------------------------------------------------\n",
      "규제 알파: i 0.1\n",
      "0.6222563048197984\n",
      "0.5559818737777843\n",
      "----------------------------------------------------------------------------------------------------\n",
      "규제 알파: i 1\n",
      "0.19712245599236533\n",
      "0.2060703410555188\n",
      "----------------------------------------------------------------------------------------------------\n",
      "규제 알파: i 10\n",
      "0.0\n",
      "-0.004661393055447993\n",
      "----------------------------------------------------------------------------------------------------\n",
      "규제 알파: i 100\n",
      "0.0\n",
      "-0.004661393055447993\n",
      "----------------------------------------------------------------------------------------------------\n"
     ]
    }
   ],
   "source": [
    "from sklearn.linear_model import Lasso\n",
    "\n",
    "penalties = [0.001, 0.01, 0.1, 1, 10, 100]\n",
    "for i in penalties:\n",
    "    lasso = Lasso(alpha=i)\n",
    "    lasso.fit(X_train_mms, y_train)\n",
    "\n",
    "    print(\"규제 알파: i\", i)\n",
    "    print(lasso.score(X_train_mms, y_train))\n",
    "    print(lasso.score(X_test_mms, y_test))\n",
    "    print(\"-\" * 100)"
   ],
   "metadata": {
    "collapsed": false
   }
  },
  {
   "cell_type": "code",
   "execution_count": 5,
   "outputs": [
    {
     "name": "stdout",
     "output_type": "stream",
     "text": [
      "0.630411390624476\n",
      "0.5492504368556521\n",
      "[ 48.08561426  34.35736704  15.92677501 -28.21411767   4.76140094\n",
      "   1.22356208   1.70561456  41.27365499]\n"
     ]
    }
   ],
   "source": [
    "lasso=Lasso(alpha=0.01)\n",
    "lasso.fit(X_train_mms, y_train)\n",
    "print(lasso.score(X_train_mms, y_train))\n",
    "print(lasso.score(X_test_mms, y_test))\n",
    "\n",
    "print(lasso.coef_)"
   ],
   "metadata": {
    "collapsed": false
   }
  }
 ],
 "metadata": {
  "kernelspec": {
   "display_name": "Python 3",
   "language": "python",
   "name": "python3"
  },
  "language_info": {
   "codemirror_mode": {
    "name": "ipython",
    "version": 2
   },
   "file_extension": ".py",
   "mimetype": "text/x-python",
   "name": "python",
   "nbconvert_exporter": "python",
   "pygments_lexer": "ipython2",
   "version": "2.7.6"
  }
 },
 "nbformat": 4,
 "nbformat_minor": 0
}
