{
 "cells": [
  {
   "cell_type": "code",
   "execution_count": 4,
   "metadata": {
    "collapsed": true
   },
   "outputs": [
    {
     "name": "stdout",
     "output_type": "stream",
     "text": [
      "755.4993655556533\n"
     ]
    }
   ],
   "source": [
    "import pandas as pd\n",
    "from sklearn.model_selection import train_test_split\n",
    "import pmdarima as pm\n",
    "\n",
    "passengers = pd.read_csv(\"../contents/AirPassengers.csv\", parse_dates=[0], index_col=0)\n",
    "train, test = train_test_split(passengers, shuffle=False, test_size=0.2)\n",
    "\n",
    "auto_model = pm.auto_arima(train, m=12, seasonal=True)\n",
    "print(auto_model.aic())"
   ]
  },
  {
   "cell_type": "code",
   "execution_count": 5,
   "outputs": [
    {
     "data": {
      "text/plain": "<class 'statsmodels.iolib.summary.Summary'>\n\"\"\"\n                                     SARIMAX Results                                      \n==========================================================================================\nDep. Variable:                                  y   No. Observations:                  115\nModel:             SARIMAX(1, 1, 0)x(0, 1, 0, 12)   Log Likelihood                -375.750\nDate:                            Thu, 07 Dec 2023   AIC                            755.499\nTime:                                    13:32:47   BIC                            760.749\nSample:                                01-01-1949   HQIC                           757.625\n                                     - 07-01-1958                                         \nCovariance Type:                              opg                                         \n==============================================================================\n                 coef    std err          z      P>|z|      [0.025      0.975]\n------------------------------------------------------------------------------\nar.L1         -0.2048      0.090     -2.271      0.023      -0.382      -0.028\nsigma2        92.6974     13.326      6.956      0.000      66.579     118.816\n===================================================================================\nLjung-Box (L1) (Q):                   0.03   Jarque-Bera (JB):                 2.44\nProb(Q):                              0.87   Prob(JB):                         0.30\nHeteroskedasticity (H):               0.96   Skew:                             0.37\nProb(H) (two-sided):                  0.92   Kurtosis:                         2.86\n===================================================================================\n\nWarnings:\n[1] Covariance matrix calculated using the outer product of gradients (complex-step).\n\"\"\"",
      "text/html": "<table class=\"simpletable\">\n<caption>SARIMAX Results</caption>\n<tr>\n  <th>Dep. Variable:</th>                  <td>y</td>               <th>  No. Observations:  </th>    <td>115</td>  \n</tr>\n<tr>\n  <th>Model:</th>           <td>SARIMAX(1, 1, 0)x(0, 1, 0, 12)</td> <th>  Log Likelihood     </th> <td>-375.750</td>\n</tr>\n<tr>\n  <th>Date:</th>                   <td>Thu, 07 Dec 2023</td>        <th>  AIC                </th>  <td>755.499</td>\n</tr>\n<tr>\n  <th>Time:</th>                       <td>13:32:47</td>            <th>  BIC                </th>  <td>760.749</td>\n</tr>\n<tr>\n  <th>Sample:</th>                    <td>01-01-1949</td>           <th>  HQIC               </th>  <td>757.625</td>\n</tr>\n<tr>\n  <th></th>                          <td>- 07-01-1958</td>          <th>                     </th>     <td> </td>   \n</tr>\n<tr>\n  <th>Covariance Type:</th>               <td>opg</td>              <th>                     </th>     <td> </td>   \n</tr>\n</table>\n<table class=\"simpletable\">\n<tr>\n     <td></td>       <th>coef</th>     <th>std err</th>      <th>z</th>      <th>P>|z|</th>  <th>[0.025</th>    <th>0.975]</th>  \n</tr>\n<tr>\n  <th>ar.L1</th>  <td>   -0.2048</td> <td>    0.090</td> <td>   -2.271</td> <td> 0.023</td> <td>   -0.382</td> <td>   -0.028</td>\n</tr>\n<tr>\n  <th>sigma2</th> <td>   92.6974</td> <td>   13.326</td> <td>    6.956</td> <td> 0.000</td> <td>   66.579</td> <td>  118.816</td>\n</tr>\n</table>\n<table class=\"simpletable\">\n<tr>\n  <th>Ljung-Box (L1) (Q):</th>     <td>0.03</td> <th>  Jarque-Bera (JB):  </th> <td>2.44</td>\n</tr>\n<tr>\n  <th>Prob(Q):</th>                <td>0.87</td> <th>  Prob(JB):          </th> <td>0.30</td>\n</tr>\n<tr>\n  <th>Heteroskedasticity (H):</th> <td>0.96</td> <th>  Skew:              </th> <td>0.37</td>\n</tr>\n<tr>\n  <th>Prob(H) (two-sided):</th>    <td>0.92</td> <th>  Kurtosis:          </th> <td>2.86</td>\n</tr>\n</table><br/><br/>Warnings:<br/>[1] Covariance matrix calculated using the outer product of gradients (complex-step).",
      "text/latex": "\\begin{center}\n\\begin{tabular}{lclc}\n\\toprule\n\\textbf{Dep. Variable:}          &               y                & \\textbf{  No. Observations:  } &    115      \\\\\n\\textbf{Model:}                  & SARIMAX(1, 1, 0)x(0, 1, 0, 12) & \\textbf{  Log Likelihood     } &  -375.750   \\\\\n\\textbf{Date:}                   &        Thu, 07 Dec 2023        & \\textbf{  AIC                } &  755.499    \\\\\n\\textbf{Time:}                   &            13:32:47            & \\textbf{  BIC                } &  760.749    \\\\\n\\textbf{Sample:}                 &           01-01-1949           & \\textbf{  HQIC               } &  757.625    \\\\\n\\textbf{}                        &          - 07-01-1958          & \\textbf{                     } &             \\\\\n\\textbf{Covariance Type:}        &              opg               & \\textbf{                     } &             \\\\\n\\bottomrule\n\\end{tabular}\n\\begin{tabular}{lcccccc}\n                & \\textbf{coef} & \\textbf{std err} & \\textbf{z} & \\textbf{P$> |$z$|$} & \\textbf{[0.025} & \\textbf{0.975]}  \\\\\n\\midrule\n\\textbf{ar.L1}  &      -0.2048  &        0.090     &    -2.271  &         0.023        &       -0.382    &       -0.028     \\\\\n\\textbf{sigma2} &      92.6974  &       13.326     &     6.956  &         0.000        &       66.579    &      118.816     \\\\\n\\bottomrule\n\\end{tabular}\n\\begin{tabular}{lclc}\n\\textbf{Ljung-Box (L1) (Q):}     & 0.03 & \\textbf{  Jarque-Bera (JB):  } & 2.44  \\\\\n\\textbf{Prob(Q):}                & 0.87 & \\textbf{  Prob(JB):          } & 0.30  \\\\\n\\textbf{Heteroskedasticity (H):} & 0.96 & \\textbf{  Skew:              } & 0.37  \\\\\n\\textbf{Prob(H) (two-sided):}    & 0.92 & \\textbf{  Kurtosis:          } & 2.86  \\\\\n\\bottomrule\n\\end{tabular}\n%\\caption{SARIMAX Results}\n\\end{center}\n\nWarnings: \\newline\n [1] Covariance matrix calculated using the outer product of gradients (complex-step)."
     },
     "execution_count": 5,
     "metadata": {},
     "output_type": "execute_result"
    }
   ],
   "source": [
    "auto_model.summary()"
   ],
   "metadata": {
    "collapsed": false
   }
  },
  {
   "cell_type": "code",
   "execution_count": 7,
   "outputs": [
    {
     "name": "stdout",
     "output_type": "stream",
     "text": [
      "0.7983772938713357\n",
      "28.5474087597444\n"
     ]
    }
   ],
   "source": [
    "from sklearn.metrics import r2_score, mean_absolute_error\n",
    "\n",
    "prediction = auto_model.predict(len(test))\n",
    "print(r2_score(test, prediction))\n",
    "print(mean_absolute_error (test, prediction))"
   ],
   "metadata": {
    "collapsed": false
   }
  },
  {
   "cell_type": "code",
   "execution_count": null,
   "outputs": [],
   "source": [],
   "metadata": {
    "collapsed": false
   }
  }
 ],
 "metadata": {
  "kernelspec": {
   "display_name": "Python 3",
   "language": "python",
   "name": "python3"
  },
  "language_info": {
   "codemirror_mode": {
    "name": "ipython",
    "version": 2
   },
   "file_extension": ".py",
   "mimetype": "text/x-python",
   "name": "python",
   "nbconvert_exporter": "python",
   "pygments_lexer": "ipython2",
   "version": "2.7.6"
  }
 },
 "nbformat": 4,
 "nbformat_minor": 0
}
