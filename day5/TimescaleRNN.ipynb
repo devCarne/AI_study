{
 "cells": [
  {
   "cell_type": "code",
   "execution_count": 2,
   "metadata": {
    "collapsed": true
   },
   "outputs": [
    {
     "name": "stdout",
     "output_type": "stream",
     "text": [
      "WARNING:tensorflow:From C:\\Users\\Administrator\\IdeaProjects\\DataAnalysis\\Chapter04\\AI_Study\\Lib\\site-packages\\keras\\src\\losses.py:2976: The name tf.losses.sparse_softmax_cross_entropy is deprecated. Please use tf.compat.v1.losses.sparse_softmax_cross_entropy instead.\n",
      "\n"
     ]
    },
    {
     "data": {
      "text/plain": "              Date Time  p (mbar)  T (degC)  Tpot (K)  Tdew (degC)  rh (%)  \\\n5   01.01.2009 01:00:00    996.50     -8.05    265.38        -8.78    94.4   \n11  01.01.2009 02:00:00    996.62     -8.88    264.54        -9.77    93.2   \n17  01.01.2009 03:00:00    996.84     -8.81    264.59        -9.66    93.5   \n23  01.01.2009 04:00:00    996.99     -9.05    264.34       -10.02    92.6   \n29  01.01.2009 05:00:00    997.46     -9.63    263.72       -10.65    92.2   \n\n    VPmax (mbar)  VPact (mbar)  VPdef (mbar)  sh (g/kg)  H2OC (mmol/mol)  \\\n5           3.33          3.14          0.19       1.96             3.15   \n11          3.12          2.90          0.21       1.81             2.91   \n17          3.13          2.93          0.20       1.83             2.94   \n23          3.07          2.85          0.23       1.78             2.85   \n29          2.94          2.71          0.23       1.69             2.71   \n\n    rho (g/m**3)  wv (m/s)  max. wv (m/s)  wd (deg)  \n5        1307.86      0.21           0.63     192.7  \n11       1312.25      0.25           0.63     190.3  \n17       1312.18      0.18           0.63     167.2  \n23       1313.61      0.10           0.38     240.0  \n29       1317.19      0.40           0.88     157.0  ",
      "text/html": "<div>\n<style scoped>\n    .dataframe tbody tr th:only-of-type {\n        vertical-align: middle;\n    }\n\n    .dataframe tbody tr th {\n        vertical-align: top;\n    }\n\n    .dataframe thead th {\n        text-align: right;\n    }\n</style>\n<table border=\"1\" class=\"dataframe\">\n  <thead>\n    <tr style=\"text-align: right;\">\n      <th></th>\n      <th>Date Time</th>\n      <th>p (mbar)</th>\n      <th>T (degC)</th>\n      <th>Tpot (K)</th>\n      <th>Tdew (degC)</th>\n      <th>rh (%)</th>\n      <th>VPmax (mbar)</th>\n      <th>VPact (mbar)</th>\n      <th>VPdef (mbar)</th>\n      <th>sh (g/kg)</th>\n      <th>H2OC (mmol/mol)</th>\n      <th>rho (g/m**3)</th>\n      <th>wv (m/s)</th>\n      <th>max. wv (m/s)</th>\n      <th>wd (deg)</th>\n    </tr>\n  </thead>\n  <tbody>\n    <tr>\n      <th>5</th>\n      <td>01.01.2009 01:00:00</td>\n      <td>996.50</td>\n      <td>-8.05</td>\n      <td>265.38</td>\n      <td>-8.78</td>\n      <td>94.4</td>\n      <td>3.33</td>\n      <td>3.14</td>\n      <td>0.19</td>\n      <td>1.96</td>\n      <td>3.15</td>\n      <td>1307.86</td>\n      <td>0.21</td>\n      <td>0.63</td>\n      <td>192.7</td>\n    </tr>\n    <tr>\n      <th>11</th>\n      <td>01.01.2009 02:00:00</td>\n      <td>996.62</td>\n      <td>-8.88</td>\n      <td>264.54</td>\n      <td>-9.77</td>\n      <td>93.2</td>\n      <td>3.12</td>\n      <td>2.90</td>\n      <td>0.21</td>\n      <td>1.81</td>\n      <td>2.91</td>\n      <td>1312.25</td>\n      <td>0.25</td>\n      <td>0.63</td>\n      <td>190.3</td>\n    </tr>\n    <tr>\n      <th>17</th>\n      <td>01.01.2009 03:00:00</td>\n      <td>996.84</td>\n      <td>-8.81</td>\n      <td>264.59</td>\n      <td>-9.66</td>\n      <td>93.5</td>\n      <td>3.13</td>\n      <td>2.93</td>\n      <td>0.20</td>\n      <td>1.83</td>\n      <td>2.94</td>\n      <td>1312.18</td>\n      <td>0.18</td>\n      <td>0.63</td>\n      <td>167.2</td>\n    </tr>\n    <tr>\n      <th>23</th>\n      <td>01.01.2009 04:00:00</td>\n      <td>996.99</td>\n      <td>-9.05</td>\n      <td>264.34</td>\n      <td>-10.02</td>\n      <td>92.6</td>\n      <td>3.07</td>\n      <td>2.85</td>\n      <td>0.23</td>\n      <td>1.78</td>\n      <td>2.85</td>\n      <td>1313.61</td>\n      <td>0.10</td>\n      <td>0.38</td>\n      <td>240.0</td>\n    </tr>\n    <tr>\n      <th>29</th>\n      <td>01.01.2009 05:00:00</td>\n      <td>997.46</td>\n      <td>-9.63</td>\n      <td>263.72</td>\n      <td>-10.65</td>\n      <td>92.2</td>\n      <td>2.94</td>\n      <td>2.71</td>\n      <td>0.23</td>\n      <td>1.69</td>\n      <td>2.71</td>\n      <td>1317.19</td>\n      <td>0.40</td>\n      <td>0.88</td>\n      <td>157.0</td>\n    </tr>\n  </tbody>\n</table>\n</div>"
     },
     "execution_count": 2,
     "metadata": {},
     "output_type": "execute_result"
    }
   ],
   "source": [
    "import os\n",
    "import tensorflow\n",
    "import numpy as np\n",
    "import pandas as pd\n",
    "import matplotlib.pyplot as plt\n",
    "\n",
    "zip_path = tensorflow.keras.utils.get_file(\n",
    "    origin='https://storage.googleapis.com/tensorflow/tf-keras-datasets/jena_climate_2009_2016.csv.zip',\n",
    "    fname='jena_climate_2009_2016.csv.zip',\n",
    "    extract=True)\n",
    "csv_path, _ = os.path.splitext(zip_path)\n",
    "df = pd.read_csv(csv_path)\n",
    "df = df[5::6]\n",
    "df.head()"
   ]
  },
  {
   "cell_type": "code",
   "execution_count": 3,
   "outputs": [
    {
     "name": "stdout",
     "output_type": "stream",
     "text": [
      "결측치 수: 0\n",
      "중복데이터 수: 24\n"
     ]
    },
    {
     "data": {
      "text/plain": "                 Date Time  p (mbar)  T (degC)  Tdew (degC)  rh (%)  \\\n78767  01.07.2010 00:20:00    992.02     17.82        14.03   78.50   \n78773  01.07.2010 01:20:00    991.85     16.90        13.74   81.60   \n78779  01.07.2010 02:20:00    991.53     16.23        13.58   84.30   \n78785  01.07.2010 03:20:00    991.20     15.39        13.24   87.00   \n78791  01.07.2010 04:20:00    991.09     14.87        12.94   88.20   \n78797  01.07.2010 05:20:00    991.16     16.00        13.15   83.20   \n78803  01.07.2010 06:20:00    991.05     18.24        13.53   74.00   \n78809  01.07.2010 07:20:00    991.32     19.46        13.98   70.60   \n78815  01.07.2010 08:20:00    991.03     21.48        14.29   63.60   \n78821  01.07.2010 09:20:00    990.74     23.85        15.09   58.00   \n78827  01.07.2010 10:20:00    990.58     25.58        15.02   52.07   \n78833  01.07.2010 11:20:00    990.47     27.17        12.67   40.70   \n78839  01.07.2010 12:20:00    990.24     27.70        12.96   40.21   \n78845  01.07.2010 13:20:00    989.96     27.55        13.32   41.52   \n78851  01.07.2010 14:20:00    989.90     27.98        12.69   38.88   \n78857  01.07.2010 15:20:00    989.69     28.02        12.98   39.53   \n78863  01.07.2010 16:20:00    989.36     27.86        13.20   40.46   \n78869  01.07.2010 17:20:00    989.11     26.78        13.34   43.50   \n78875  01.07.2010 18:20:00    989.10     26.71        13.70   44.73   \n78881  01.07.2010 19:20:00    989.22     25.62        14.49   50.20   \n78887  01.07.2010 20:20:00    989.43     23.77        14.66   56.70   \n78893  01.07.2010 21:20:00    989.93     22.60        14.62   60.68   \n78899  01.07.2010 22:20:00    990.22     21.91        14.61   63.22   \n78905  01.07.2010 23:20:00    990.45     20.79        14.75   68.34   \n\n       VPmax (mbar)  VPact (mbar)  VPdef (mbar)  sh (g/kg)  H2OC (mmol/mol)  \\\n78767         20.44         16.04          4.39      10.12            16.17   \n78773         19.28         15.74          3.55       9.93            15.87   \n78779         18.48         15.58          2.90       9.83            15.71   \n78785         17.51         15.24          2.28       9.62            15.37   \n78791         16.94         14.94          2.00       9.43            15.07   \n78797         18.21         15.15          3.06       9.56            15.29   \n78803         20.99         15.53          5.46       9.80            15.67   \n78809         22.65         15.99          6.66      10.09            16.13   \n78815         25.65         16.32          9.34      10.30            16.46   \n78821         29.62         17.18         12.44      10.86            17.34   \n78827         32.84         17.10         15.74      10.81            17.26   \n78833         36.07         14.68         21.39       9.27            14.82   \n78839         37.20         14.96         22.24       9.45            15.11   \n78845         36.88         15.31         21.56       9.68            15.47   \n78851         37.81         14.70         23.11       9.29            14.85   \n78857         37.90         14.98         22.92       9.47            15.14   \n78863         37.55         15.19         22.36       9.61            15.36   \n78869         35.25         15.33         19.92       9.70            15.50   \n78875         35.10         15.70         19.40       9.93            15.88   \n78881         32.92         16.52         16.39      10.46            16.70   \n78887         29.48         16.71         12.76      10.57            16.89   \n78893         27.47         16.67         10.80      10.54            16.84   \n78899         26.34         16.65          9.69      10.53            16.81   \n78905         24.59         16.80          7.79      10.62            16.97   \n\n       rho (g/m**3)  wv (m/s)  max. wv (m/s)  wd (deg)  \n78767       1180.38      0.23           0.48     52.64  \n78773       1184.06      1.21           1.76    239.50  \n78779       1186.49      0.44           1.14    227.90  \n78785       1189.70      1.35           1.88    201.40  \n78791       1191.85      0.46           0.78     82.30  \n78797       1187.18      0.77           1.08    163.50  \n78803       1177.75      0.58           1.04     86.90  \n78809       1172.96      1.51           2.96     44.23  \n78815       1164.43      1.93           3.08     50.90  \n78821       1154.41      0.93           2.00    205.90  \n78827       1147.58      1.82           2.88     68.12  \n78833       1142.43      1.65           3.44     23.77  \n78839       1140.03      1.94           4.40    311.10  \n78845       1140.12      1.70           3.32    325.70  \n78851       1138.69      1.60           4.60      8.58  \n78857       1138.18      1.64           3.04    344.80  \n78863       1138.31      1.28           2.04    345.60  \n78869       1142.05      2.54           3.88     51.16  \n78875       1142.15      2.30           3.04     28.16  \n78881       1146.09      1.90           3.04     17.77  \n78887       1153.39      2.89           4.20     30.98  \n78893       1158.57      1.81           2.24    346.10  \n78899       1161.62      0.65           1.12    344.90  \n78905       1166.25      0.22           0.60     70.20  ",
      "text/html": "<div>\n<style scoped>\n    .dataframe tbody tr th:only-of-type {\n        vertical-align: middle;\n    }\n\n    .dataframe tbody tr th {\n        vertical-align: top;\n    }\n\n    .dataframe thead th {\n        text-align: right;\n    }\n</style>\n<table border=\"1\" class=\"dataframe\">\n  <thead>\n    <tr style=\"text-align: right;\">\n      <th></th>\n      <th>Date Time</th>\n      <th>p (mbar)</th>\n      <th>T (degC)</th>\n      <th>Tdew (degC)</th>\n      <th>rh (%)</th>\n      <th>VPmax (mbar)</th>\n      <th>VPact (mbar)</th>\n      <th>VPdef (mbar)</th>\n      <th>sh (g/kg)</th>\n      <th>H2OC (mmol/mol)</th>\n      <th>rho (g/m**3)</th>\n      <th>wv (m/s)</th>\n      <th>max. wv (m/s)</th>\n      <th>wd (deg)</th>\n    </tr>\n  </thead>\n  <tbody>\n    <tr>\n      <th>78767</th>\n      <td>01.07.2010 00:20:00</td>\n      <td>992.02</td>\n      <td>17.82</td>\n      <td>14.03</td>\n      <td>78.50</td>\n      <td>20.44</td>\n      <td>16.04</td>\n      <td>4.39</td>\n      <td>10.12</td>\n      <td>16.17</td>\n      <td>1180.38</td>\n      <td>0.23</td>\n      <td>0.48</td>\n      <td>52.64</td>\n    </tr>\n    <tr>\n      <th>78773</th>\n      <td>01.07.2010 01:20:00</td>\n      <td>991.85</td>\n      <td>16.90</td>\n      <td>13.74</td>\n      <td>81.60</td>\n      <td>19.28</td>\n      <td>15.74</td>\n      <td>3.55</td>\n      <td>9.93</td>\n      <td>15.87</td>\n      <td>1184.06</td>\n      <td>1.21</td>\n      <td>1.76</td>\n      <td>239.50</td>\n    </tr>\n    <tr>\n      <th>78779</th>\n      <td>01.07.2010 02:20:00</td>\n      <td>991.53</td>\n      <td>16.23</td>\n      <td>13.58</td>\n      <td>84.30</td>\n      <td>18.48</td>\n      <td>15.58</td>\n      <td>2.90</td>\n      <td>9.83</td>\n      <td>15.71</td>\n      <td>1186.49</td>\n      <td>0.44</td>\n      <td>1.14</td>\n      <td>227.90</td>\n    </tr>\n    <tr>\n      <th>78785</th>\n      <td>01.07.2010 03:20:00</td>\n      <td>991.20</td>\n      <td>15.39</td>\n      <td>13.24</td>\n      <td>87.00</td>\n      <td>17.51</td>\n      <td>15.24</td>\n      <td>2.28</td>\n      <td>9.62</td>\n      <td>15.37</td>\n      <td>1189.70</td>\n      <td>1.35</td>\n      <td>1.88</td>\n      <td>201.40</td>\n    </tr>\n    <tr>\n      <th>78791</th>\n      <td>01.07.2010 04:20:00</td>\n      <td>991.09</td>\n      <td>14.87</td>\n      <td>12.94</td>\n      <td>88.20</td>\n      <td>16.94</td>\n      <td>14.94</td>\n      <td>2.00</td>\n      <td>9.43</td>\n      <td>15.07</td>\n      <td>1191.85</td>\n      <td>0.46</td>\n      <td>0.78</td>\n      <td>82.30</td>\n    </tr>\n    <tr>\n      <th>78797</th>\n      <td>01.07.2010 05:20:00</td>\n      <td>991.16</td>\n      <td>16.00</td>\n      <td>13.15</td>\n      <td>83.20</td>\n      <td>18.21</td>\n      <td>15.15</td>\n      <td>3.06</td>\n      <td>9.56</td>\n      <td>15.29</td>\n      <td>1187.18</td>\n      <td>0.77</td>\n      <td>1.08</td>\n      <td>163.50</td>\n    </tr>\n    <tr>\n      <th>78803</th>\n      <td>01.07.2010 06:20:00</td>\n      <td>991.05</td>\n      <td>18.24</td>\n      <td>13.53</td>\n      <td>74.00</td>\n      <td>20.99</td>\n      <td>15.53</td>\n      <td>5.46</td>\n      <td>9.80</td>\n      <td>15.67</td>\n      <td>1177.75</td>\n      <td>0.58</td>\n      <td>1.04</td>\n      <td>86.90</td>\n    </tr>\n    <tr>\n      <th>78809</th>\n      <td>01.07.2010 07:20:00</td>\n      <td>991.32</td>\n      <td>19.46</td>\n      <td>13.98</td>\n      <td>70.60</td>\n      <td>22.65</td>\n      <td>15.99</td>\n      <td>6.66</td>\n      <td>10.09</td>\n      <td>16.13</td>\n      <td>1172.96</td>\n      <td>1.51</td>\n      <td>2.96</td>\n      <td>44.23</td>\n    </tr>\n    <tr>\n      <th>78815</th>\n      <td>01.07.2010 08:20:00</td>\n      <td>991.03</td>\n      <td>21.48</td>\n      <td>14.29</td>\n      <td>63.60</td>\n      <td>25.65</td>\n      <td>16.32</td>\n      <td>9.34</td>\n      <td>10.30</td>\n      <td>16.46</td>\n      <td>1164.43</td>\n      <td>1.93</td>\n      <td>3.08</td>\n      <td>50.90</td>\n    </tr>\n    <tr>\n      <th>78821</th>\n      <td>01.07.2010 09:20:00</td>\n      <td>990.74</td>\n      <td>23.85</td>\n      <td>15.09</td>\n      <td>58.00</td>\n      <td>29.62</td>\n      <td>17.18</td>\n      <td>12.44</td>\n      <td>10.86</td>\n      <td>17.34</td>\n      <td>1154.41</td>\n      <td>0.93</td>\n      <td>2.00</td>\n      <td>205.90</td>\n    </tr>\n    <tr>\n      <th>78827</th>\n      <td>01.07.2010 10:20:00</td>\n      <td>990.58</td>\n      <td>25.58</td>\n      <td>15.02</td>\n      <td>52.07</td>\n      <td>32.84</td>\n      <td>17.10</td>\n      <td>15.74</td>\n      <td>10.81</td>\n      <td>17.26</td>\n      <td>1147.58</td>\n      <td>1.82</td>\n      <td>2.88</td>\n      <td>68.12</td>\n    </tr>\n    <tr>\n      <th>78833</th>\n      <td>01.07.2010 11:20:00</td>\n      <td>990.47</td>\n      <td>27.17</td>\n      <td>12.67</td>\n      <td>40.70</td>\n      <td>36.07</td>\n      <td>14.68</td>\n      <td>21.39</td>\n      <td>9.27</td>\n      <td>14.82</td>\n      <td>1142.43</td>\n      <td>1.65</td>\n      <td>3.44</td>\n      <td>23.77</td>\n    </tr>\n    <tr>\n      <th>78839</th>\n      <td>01.07.2010 12:20:00</td>\n      <td>990.24</td>\n      <td>27.70</td>\n      <td>12.96</td>\n      <td>40.21</td>\n      <td>37.20</td>\n      <td>14.96</td>\n      <td>22.24</td>\n      <td>9.45</td>\n      <td>15.11</td>\n      <td>1140.03</td>\n      <td>1.94</td>\n      <td>4.40</td>\n      <td>311.10</td>\n    </tr>\n    <tr>\n      <th>78845</th>\n      <td>01.07.2010 13:20:00</td>\n      <td>989.96</td>\n      <td>27.55</td>\n      <td>13.32</td>\n      <td>41.52</td>\n      <td>36.88</td>\n      <td>15.31</td>\n      <td>21.56</td>\n      <td>9.68</td>\n      <td>15.47</td>\n      <td>1140.12</td>\n      <td>1.70</td>\n      <td>3.32</td>\n      <td>325.70</td>\n    </tr>\n    <tr>\n      <th>78851</th>\n      <td>01.07.2010 14:20:00</td>\n      <td>989.90</td>\n      <td>27.98</td>\n      <td>12.69</td>\n      <td>38.88</td>\n      <td>37.81</td>\n      <td>14.70</td>\n      <td>23.11</td>\n      <td>9.29</td>\n      <td>14.85</td>\n      <td>1138.69</td>\n      <td>1.60</td>\n      <td>4.60</td>\n      <td>8.58</td>\n    </tr>\n    <tr>\n      <th>78857</th>\n      <td>01.07.2010 15:20:00</td>\n      <td>989.69</td>\n      <td>28.02</td>\n      <td>12.98</td>\n      <td>39.53</td>\n      <td>37.90</td>\n      <td>14.98</td>\n      <td>22.92</td>\n      <td>9.47</td>\n      <td>15.14</td>\n      <td>1138.18</td>\n      <td>1.64</td>\n      <td>3.04</td>\n      <td>344.80</td>\n    </tr>\n    <tr>\n      <th>78863</th>\n      <td>01.07.2010 16:20:00</td>\n      <td>989.36</td>\n      <td>27.86</td>\n      <td>13.20</td>\n      <td>40.46</td>\n      <td>37.55</td>\n      <td>15.19</td>\n      <td>22.36</td>\n      <td>9.61</td>\n      <td>15.36</td>\n      <td>1138.31</td>\n      <td>1.28</td>\n      <td>2.04</td>\n      <td>345.60</td>\n    </tr>\n    <tr>\n      <th>78869</th>\n      <td>01.07.2010 17:20:00</td>\n      <td>989.11</td>\n      <td>26.78</td>\n      <td>13.34</td>\n      <td>43.50</td>\n      <td>35.25</td>\n      <td>15.33</td>\n      <td>19.92</td>\n      <td>9.70</td>\n      <td>15.50</td>\n      <td>1142.05</td>\n      <td>2.54</td>\n      <td>3.88</td>\n      <td>51.16</td>\n    </tr>\n    <tr>\n      <th>78875</th>\n      <td>01.07.2010 18:20:00</td>\n      <td>989.10</td>\n      <td>26.71</td>\n      <td>13.70</td>\n      <td>44.73</td>\n      <td>35.10</td>\n      <td>15.70</td>\n      <td>19.40</td>\n      <td>9.93</td>\n      <td>15.88</td>\n      <td>1142.15</td>\n      <td>2.30</td>\n      <td>3.04</td>\n      <td>28.16</td>\n    </tr>\n    <tr>\n      <th>78881</th>\n      <td>01.07.2010 19:20:00</td>\n      <td>989.22</td>\n      <td>25.62</td>\n      <td>14.49</td>\n      <td>50.20</td>\n      <td>32.92</td>\n      <td>16.52</td>\n      <td>16.39</td>\n      <td>10.46</td>\n      <td>16.70</td>\n      <td>1146.09</td>\n      <td>1.90</td>\n      <td>3.04</td>\n      <td>17.77</td>\n    </tr>\n    <tr>\n      <th>78887</th>\n      <td>01.07.2010 20:20:00</td>\n      <td>989.43</td>\n      <td>23.77</td>\n      <td>14.66</td>\n      <td>56.70</td>\n      <td>29.48</td>\n      <td>16.71</td>\n      <td>12.76</td>\n      <td>10.57</td>\n      <td>16.89</td>\n      <td>1153.39</td>\n      <td>2.89</td>\n      <td>4.20</td>\n      <td>30.98</td>\n    </tr>\n    <tr>\n      <th>78893</th>\n      <td>01.07.2010 21:20:00</td>\n      <td>989.93</td>\n      <td>22.60</td>\n      <td>14.62</td>\n      <td>60.68</td>\n      <td>27.47</td>\n      <td>16.67</td>\n      <td>10.80</td>\n      <td>10.54</td>\n      <td>16.84</td>\n      <td>1158.57</td>\n      <td>1.81</td>\n      <td>2.24</td>\n      <td>346.10</td>\n    </tr>\n    <tr>\n      <th>78899</th>\n      <td>01.07.2010 22:20:00</td>\n      <td>990.22</td>\n      <td>21.91</td>\n      <td>14.61</td>\n      <td>63.22</td>\n      <td>26.34</td>\n      <td>16.65</td>\n      <td>9.69</td>\n      <td>10.53</td>\n      <td>16.81</td>\n      <td>1161.62</td>\n      <td>0.65</td>\n      <td>1.12</td>\n      <td>344.90</td>\n    </tr>\n    <tr>\n      <th>78905</th>\n      <td>01.07.2010 23:20:00</td>\n      <td>990.45</td>\n      <td>20.79</td>\n      <td>14.75</td>\n      <td>68.34</td>\n      <td>24.59</td>\n      <td>16.80</td>\n      <td>7.79</td>\n      <td>10.62</td>\n      <td>16.97</td>\n      <td>1166.25</td>\n      <td>0.22</td>\n      <td>0.60</td>\n      <td>70.20</td>\n    </tr>\n  </tbody>\n</table>\n</div>"
     },
     "metadata": {},
     "output_type": "display_data"
    },
    {
     "data": {
      "text/plain": "                 Date Time  p (mbar)  T (degC)  Tdew (degC)  rh (%)  \\\n78623  01.07.2010 00:20:00    992.02     17.82        14.03    78.5   \n78767  01.07.2010 00:20:00    992.02     17.82        14.03    78.5   \n\n       VPmax (mbar)  VPact (mbar)  VPdef (mbar)  sh (g/kg)  H2OC (mmol/mol)  \\\n78623         20.44         16.04          4.39      10.12            16.17   \n78767         20.44         16.04          4.39      10.12            16.17   \n\n       rho (g/m**3)  wv (m/s)  max. wv (m/s)  wd (deg)  \n78623       1180.38      0.23           0.48     52.64  \n78767       1180.38      0.23           0.48     52.64  ",
      "text/html": "<div>\n<style scoped>\n    .dataframe tbody tr th:only-of-type {\n        vertical-align: middle;\n    }\n\n    .dataframe tbody tr th {\n        vertical-align: top;\n    }\n\n    .dataframe thead th {\n        text-align: right;\n    }\n</style>\n<table border=\"1\" class=\"dataframe\">\n  <thead>\n    <tr style=\"text-align: right;\">\n      <th></th>\n      <th>Date Time</th>\n      <th>p (mbar)</th>\n      <th>T (degC)</th>\n      <th>Tdew (degC)</th>\n      <th>rh (%)</th>\n      <th>VPmax (mbar)</th>\n      <th>VPact (mbar)</th>\n      <th>VPdef (mbar)</th>\n      <th>sh (g/kg)</th>\n      <th>H2OC (mmol/mol)</th>\n      <th>rho (g/m**3)</th>\n      <th>wv (m/s)</th>\n      <th>max. wv (m/s)</th>\n      <th>wd (deg)</th>\n    </tr>\n  </thead>\n  <tbody>\n    <tr>\n      <th>78623</th>\n      <td>01.07.2010 00:20:00</td>\n      <td>992.02</td>\n      <td>17.82</td>\n      <td>14.03</td>\n      <td>78.5</td>\n      <td>20.44</td>\n      <td>16.04</td>\n      <td>4.39</td>\n      <td>10.12</td>\n      <td>16.17</td>\n      <td>1180.38</td>\n      <td>0.23</td>\n      <td>0.48</td>\n      <td>52.64</td>\n    </tr>\n    <tr>\n      <th>78767</th>\n      <td>01.07.2010 00:20:00</td>\n      <td>992.02</td>\n      <td>17.82</td>\n      <td>14.03</td>\n      <td>78.5</td>\n      <td>20.44</td>\n      <td>16.04</td>\n      <td>4.39</td>\n      <td>10.12</td>\n      <td>16.17</td>\n      <td>1180.38</td>\n      <td>0.23</td>\n      <td>0.48</td>\n      <td>52.64</td>\n    </tr>\n  </tbody>\n</table>\n</div>"
     },
     "metadata": {},
     "output_type": "display_data"
    },
    {
     "name": "stdout",
     "output_type": "stream",
     "text": [
      "중복데이터 수: 0\n",
      "-9999.0\n"
     ]
    },
    {
     "name": "stderr",
     "output_type": "stream",
     "text": [
      "C:\\Users\\Administrator\\AppData\\Local\\Temp\\ipykernel_4100\\1822124275.py:12: SettingWithCopyWarning: \n",
      "A value is trying to be set on a copy of a slice from a DataFrame\n",
      "\n",
      "See the caveats in the documentation: https://pandas.pydata.org/pandas-docs/stable/user_guide/indexing.html#returning-a-view-versus-a-copy\n",
      "  df[\"wv (m/s)\"][df[\"wv (m/s)\"] == -9999.0] = 0\n",
      "C:\\Users\\Administrator\\AppData\\Local\\Temp\\ipykernel_4100\\1822124275.py:13: SettingWithCopyWarning: \n",
      "A value is trying to be set on a copy of a slice from a DataFrame\n",
      "\n",
      "See the caveats in the documentation: https://pandas.pydata.org/pandas-docs/stable/user_guide/indexing.html#returning-a-view-versus-a-copy\n",
      "  df[\"max. wv (m/s)\"][df[\"max. wv (m/s)\"] == -9999.0] = 0\n"
     ]
    }
   ],
   "source": [
    "# 결측치확인\n",
    "df = df.drop(\"Tpot (K)\", axis=1)\n",
    "print(\"결측치 수:\", df.isnull().sum().sum())\n",
    "# 중복데이터 확인\n",
    "print(\"중복데이터 수:\", df.duplicated().sum())\n",
    "display(df[df.duplicated()])\n",
    "display(df[df[\"Date Time\"] == \"01.07.2010 00:20:00\"])\n",
    "df.drop_duplicates(inplace=True)\n",
    "print(\"중복데이터 수:\", df.duplicated().sum())\n",
    "# 이상치 확인 후 수정\n",
    "print(df[\"wv (m/s)\"].min())\n",
    "df[\"wv (m/s)\"][df[\"wv (m/s)\"] == -9999.0] = 0\n",
    "df[\"max. wv (m/s)\"][df[\"max. wv (m/s)\"] == -9999.0] = 0"
   ],
   "metadata": {
    "collapsed": false
   }
  },
  {
   "cell_type": "code",
   "execution_count": 4,
   "outputs": [
    {
     "data": {
      "text/plain": "                     p (mbar)  T (degC)  Tdew (degC)  rh (%)  VPmax (mbar)  \\\nDate Time                                                                    \n2009-01-01 01:00:00    996.50     -8.05        -8.78    94.4          3.33   \n2009-01-01 02:00:00    996.62     -8.88        -9.77    93.2          3.12   \n2009-01-01 03:00:00    996.84     -8.81        -9.66    93.5          3.13   \n2009-01-01 04:00:00    996.99     -9.05       -10.02    92.6          3.07   \n2009-01-01 05:00:00    997.46     -9.63       -10.65    92.2          2.94   \n\n                     VPact (mbar)  VPdef (mbar)  sh (g/kg)  H2OC (mmol/mol)  \\\nDate Time                                                                     \n2009-01-01 01:00:00          3.14          0.19       1.96             3.15   \n2009-01-01 02:00:00          2.90          0.21       1.81             2.91   \n2009-01-01 03:00:00          2.93          0.20       1.83             2.94   \n2009-01-01 04:00:00          2.85          0.23       1.78             2.85   \n2009-01-01 05:00:00          2.71          0.23       1.69             2.71   \n\n                     rho (g/m**3)  wv (m/s)  max. wv (m/s)  wd (deg)  \nDate Time                                                             \n2009-01-01 01:00:00       1307.86      0.21           0.63     192.7  \n2009-01-01 02:00:00       1312.25      0.25           0.63     190.3  \n2009-01-01 03:00:00       1312.18      0.18           0.63     167.2  \n2009-01-01 04:00:00       1313.61      0.10           0.38     240.0  \n2009-01-01 05:00:00       1317.19      0.40           0.88     157.0  ",
      "text/html": "<div>\n<style scoped>\n    .dataframe tbody tr th:only-of-type {\n        vertical-align: middle;\n    }\n\n    .dataframe tbody tr th {\n        vertical-align: top;\n    }\n\n    .dataframe thead th {\n        text-align: right;\n    }\n</style>\n<table border=\"1\" class=\"dataframe\">\n  <thead>\n    <tr style=\"text-align: right;\">\n      <th></th>\n      <th>p (mbar)</th>\n      <th>T (degC)</th>\n      <th>Tdew (degC)</th>\n      <th>rh (%)</th>\n      <th>VPmax (mbar)</th>\n      <th>VPact (mbar)</th>\n      <th>VPdef (mbar)</th>\n      <th>sh (g/kg)</th>\n      <th>H2OC (mmol/mol)</th>\n      <th>rho (g/m**3)</th>\n      <th>wv (m/s)</th>\n      <th>max. wv (m/s)</th>\n      <th>wd (deg)</th>\n    </tr>\n    <tr>\n      <th>Date Time</th>\n      <th></th>\n      <th></th>\n      <th></th>\n      <th></th>\n      <th></th>\n      <th></th>\n      <th></th>\n      <th></th>\n      <th></th>\n      <th></th>\n      <th></th>\n      <th></th>\n      <th></th>\n    </tr>\n  </thead>\n  <tbody>\n    <tr>\n      <th>2009-01-01 01:00:00</th>\n      <td>996.50</td>\n      <td>-8.05</td>\n      <td>-8.78</td>\n      <td>94.4</td>\n      <td>3.33</td>\n      <td>3.14</td>\n      <td>0.19</td>\n      <td>1.96</td>\n      <td>3.15</td>\n      <td>1307.86</td>\n      <td>0.21</td>\n      <td>0.63</td>\n      <td>192.7</td>\n    </tr>\n    <tr>\n      <th>2009-01-01 02:00:00</th>\n      <td>996.62</td>\n      <td>-8.88</td>\n      <td>-9.77</td>\n      <td>93.2</td>\n      <td>3.12</td>\n      <td>2.90</td>\n      <td>0.21</td>\n      <td>1.81</td>\n      <td>2.91</td>\n      <td>1312.25</td>\n      <td>0.25</td>\n      <td>0.63</td>\n      <td>190.3</td>\n    </tr>\n    <tr>\n      <th>2009-01-01 03:00:00</th>\n      <td>996.84</td>\n      <td>-8.81</td>\n      <td>-9.66</td>\n      <td>93.5</td>\n      <td>3.13</td>\n      <td>2.93</td>\n      <td>0.20</td>\n      <td>1.83</td>\n      <td>2.94</td>\n      <td>1312.18</td>\n      <td>0.18</td>\n      <td>0.63</td>\n      <td>167.2</td>\n    </tr>\n    <tr>\n      <th>2009-01-01 04:00:00</th>\n      <td>996.99</td>\n      <td>-9.05</td>\n      <td>-10.02</td>\n      <td>92.6</td>\n      <td>3.07</td>\n      <td>2.85</td>\n      <td>0.23</td>\n      <td>1.78</td>\n      <td>2.85</td>\n      <td>1313.61</td>\n      <td>0.10</td>\n      <td>0.38</td>\n      <td>240.0</td>\n    </tr>\n    <tr>\n      <th>2009-01-01 05:00:00</th>\n      <td>997.46</td>\n      <td>-9.63</td>\n      <td>-10.65</td>\n      <td>92.2</td>\n      <td>2.94</td>\n      <td>2.71</td>\n      <td>0.23</td>\n      <td>1.69</td>\n      <td>2.71</td>\n      <td>1317.19</td>\n      <td>0.40</td>\n      <td>0.88</td>\n      <td>157.0</td>\n    </tr>\n  </tbody>\n</table>\n</div>"
     },
     "metadata": {},
     "output_type": "display_data"
    }
   ],
   "source": [
    "df[\"Date Time\"] = pd.to_datetime(df[\"Date Time\"], format=\"%d.%m.%Y %H:%M:%S\")\n",
    "df.set_index(\"Date Time\", inplace=True)\n",
    "display(df.head())\n",
    "# input, target 분리\n",
    "target = df[\"T (degC)\"]\n",
    "input = df[['Tdew (degC)', 'rh (%)', 'VPmax (mbar)', 'rho (g/m**3)', \"T (degC)\"]]\n"
   ],
   "metadata": {
    "collapsed": false
   }
  },
  {
   "cell_type": "code",
   "execution_count": 5,
   "outputs": [
    {
     "data": {
      "text/plain": "                     Tdew (degC)  rh (%)  VPmax (mbar)  rho (g/m**3)  T (degC)\nDate Time                                                                     \n2009-01-01 01:00:00        -8.78    94.4          3.33       1307.86     -8.05\n2009-01-01 02:00:00        -9.77    93.2          3.12       1312.25     -8.88\n2009-01-01 03:00:00        -9.66    93.5          3.13       1312.18     -8.81\n2009-01-01 04:00:00       -10.02    92.6          3.07       1313.61     -9.05\n2009-01-01 05:00:00       -10.65    92.2          2.94       1317.19     -9.63",
      "text/html": "<div>\n<style scoped>\n    .dataframe tbody tr th:only-of-type {\n        vertical-align: middle;\n    }\n\n    .dataframe tbody tr th {\n        vertical-align: top;\n    }\n\n    .dataframe thead th {\n        text-align: right;\n    }\n</style>\n<table border=\"1\" class=\"dataframe\">\n  <thead>\n    <tr style=\"text-align: right;\">\n      <th></th>\n      <th>Tdew (degC)</th>\n      <th>rh (%)</th>\n      <th>VPmax (mbar)</th>\n      <th>rho (g/m**3)</th>\n      <th>T (degC)</th>\n    </tr>\n    <tr>\n      <th>Date Time</th>\n      <th></th>\n      <th></th>\n      <th></th>\n      <th></th>\n      <th></th>\n    </tr>\n  </thead>\n  <tbody>\n    <tr>\n      <th>2009-01-01 01:00:00</th>\n      <td>-8.78</td>\n      <td>94.4</td>\n      <td>3.33</td>\n      <td>1307.86</td>\n      <td>-8.05</td>\n    </tr>\n    <tr>\n      <th>2009-01-01 02:00:00</th>\n      <td>-9.77</td>\n      <td>93.2</td>\n      <td>3.12</td>\n      <td>1312.25</td>\n      <td>-8.88</td>\n    </tr>\n    <tr>\n      <th>2009-01-01 03:00:00</th>\n      <td>-9.66</td>\n      <td>93.5</td>\n      <td>3.13</td>\n      <td>1312.18</td>\n      <td>-8.81</td>\n    </tr>\n    <tr>\n      <th>2009-01-01 04:00:00</th>\n      <td>-10.02</td>\n      <td>92.6</td>\n      <td>3.07</td>\n      <td>1313.61</td>\n      <td>-9.05</td>\n    </tr>\n    <tr>\n      <th>2009-01-01 05:00:00</th>\n      <td>-10.65</td>\n      <td>92.2</td>\n      <td>2.94</td>\n      <td>1317.19</td>\n      <td>-9.63</td>\n    </tr>\n  </tbody>\n</table>\n</div>"
     },
     "metadata": {},
     "output_type": "display_data"
    },
    {
     "data": {
      "text/plain": "Date Time\n2009-01-01 01:00:00   -8.05\n2009-01-01 02:00:00   -8.88\n2009-01-01 03:00:00   -8.81\n2009-01-01 04:00:00   -9.05\n2009-01-01 05:00:00   -9.63\nName: T (degC), dtype: float64"
     },
     "metadata": {},
     "output_type": "display_data"
    }
   ],
   "source": [
    "display(input.head())\n",
    "display(target.head())"
   ],
   "metadata": {
    "collapsed": false
   }
  },
  {
   "cell_type": "code",
   "execution_count": 6,
   "outputs": [
    {
     "name": "stdout",
     "output_type": "stream",
     "text": [
      "num_data: 70067\n",
      "num_time_data: 70057\n",
      "num_test: 21018\n",
      "num_train: 49039\n",
      "train_index: 49046\n",
      "\n"
     ]
    }
   ],
   "source": [
    "num_data = len(target)\n",
    "print(\"num_data:\", num_data)\n",
    "time_step = 10\n",
    "num_time_data = num_data - time_step\n",
    "print(\"num_time_data:\", num_time_data)\n",
    "test_size = 0.3\n",
    "num_test = int(np.ceil((num_time_data) * 0.3))\n",
    "print(\"num_test:\", num_test)\n",
    "num_train = num_time_data - num_test\n",
    "print(\"num_train:\", num_train)\n",
    "train_index = num_train + 7\n",
    "print(\"train_index:\", train_index)\n",
    "print()"
   ],
   "metadata": {
    "collapsed": false
   }
  },
  {
   "cell_type": "code",
   "execution_count": 7,
   "outputs": [
    {
     "data": {
      "text/plain": "(70067, 5)"
     },
     "execution_count": 7,
     "metadata": {},
     "output_type": "execute_result"
    }
   ],
   "source": [
    "#표준화\n",
    "from sklearn.preprocessing import StandardScaler\n",
    "\n",
    "ss = StandardScaler()\n",
    "ss.fit(input[:49049])\n",
    "input_ss = ss.transform(input)\n",
    "input_ss.shape"
   ],
   "metadata": {
    "collapsed": false
   }
  },
  {
   "cell_type": "code",
   "execution_count": 8,
   "outputs": [
    {
     "name": "stderr",
     "output_type": "stream",
     "text": [
      "C:\\Users\\Administrator\\AppData\\Local\\Temp\\ipykernel_4100\\751469987.py:9: FutureWarning: Series.__getitem__ treating keys as positions is deprecated. In a future version, integer keys will always be treated as labels (consistent with DataFrame behavior). To access a value by position, use `ser.iloc[pos]`\n",
      "  y_temp = target[end_time]\n"
     ]
    },
    {
     "name": "stdout",
     "output_type": "stream",
     "text": [
      "(70057, 10, 5) (70057,)\n"
     ]
    }
   ],
   "source": [
    "# 타임 데이터 구축\n",
    "def split_xy(input, target, time_step):\n",
    "    x, y = [], []\n",
    "    for i in range(len(target)):\n",
    "        end_time = i + time_step\n",
    "        if end_time >= len(target):\n",
    "            break\n",
    "        x_temp = input[i:end_time]\n",
    "        y_temp = target[end_time]\n",
    "        x.append(x_temp)\n",
    "        y.append(y_temp)\n",
    "    return np.array(x), np.array(y)\n",
    "\n",
    "x, y = split_xy(input_ss, target, time_step)\n",
    "print(x.shape, y.shape)"
   ],
   "metadata": {
    "collapsed": false
   }
  },
  {
   "cell_type": "code",
   "execution_count": 9,
   "outputs": [
    {
     "data": {
      "text/plain": "((49039, 10, 5), (21018, 10, 5), (49039,), (21018,))"
     },
     "execution_count": 9,
     "metadata": {},
     "output_type": "execute_result"
    }
   ],
   "source": [
    "from sklearn.model_selection import train_test_split\n",
    "\n",
    "X_train, X_test, y_train, y_test = train_test_split(x, y, test_size=test_size, shuffle=False, random_state=7)\n",
    "X_train.shape, X_test.shape, y_train.shape, y_test.shape"
   ],
   "metadata": {
    "collapsed": false
   }
  },
  {
   "cell_type": "code",
   "execution_count": 10,
   "outputs": [
    {
     "name": "stdout",
     "output_type": "stream",
     "text": [
      "WARNING:tensorflow:From C:\\Users\\Administrator\\IdeaProjects\\DataAnalysis\\Chapter04\\AI_Study\\Lib\\site-packages\\keras\\src\\backend.py:873: The name tf.get_default_graph is deprecated. Please use tf.compat.v1.get_default_graph instead.\n",
      "\n"
     ]
    },
    {
     "name": "stderr",
     "output_type": "stream",
     "text": [
      "WARNING:absl:`lr` is deprecated in Keras optimizer, please use `learning_rate` or use the legacy optimizer, e.g.,tf.keras.optimizers.legacy.Adam.\n"
     ]
    },
    {
     "name": "stdout",
     "output_type": "stream",
     "text": [
      "Epoch 1/20\n",
      "WARNING:tensorflow:From C:\\Users\\Administrator\\IdeaProjects\\DataAnalysis\\Chapter04\\AI_Study\\Lib\\site-packages\\keras\\src\\utils\\tf_utils.py:492: The name tf.ragged.RaggedTensorValue is deprecated. Please use tf.compat.v1.ragged.RaggedTensorValue instead.\n",
      "\n"
     ]
    },
    {
     "name": "stderr",
     "output_type": "stream",
     "text": [
      "WARNING:tensorflow:From C:\\Users\\Administrator\\IdeaProjects\\DataAnalysis\\Chapter04\\AI_Study\\Lib\\site-packages\\keras\\src\\utils\\tf_utils.py:492: The name tf.ragged.RaggedTensorValue is deprecated. Please use tf.compat.v1.ragged.RaggedTensorValue instead.\n",
      "\n"
     ]
    },
    {
     "name": "stdout",
     "output_type": "stream",
     "text": [
      "WARNING:tensorflow:From C:\\Users\\Administrator\\IdeaProjects\\DataAnalysis\\Chapter04\\AI_Study\\Lib\\site-packages\\keras\\src\\engine\\base_layer_utils.py:384: The name tf.executing_eagerly_outside_functions is deprecated. Please use tf.compat.v1.executing_eagerly_outside_functions instead.\n",
      "\n"
     ]
    },
    {
     "name": "stderr",
     "output_type": "stream",
     "text": [
      "WARNING:tensorflow:From C:\\Users\\Administrator\\IdeaProjects\\DataAnalysis\\Chapter04\\AI_Study\\Lib\\site-packages\\keras\\src\\engine\\base_layer_utils.py:384: The name tf.executing_eagerly_outside_functions is deprecated. Please use tf.compat.v1.executing_eagerly_outside_functions instead.\n",
      "\n"
     ]
    },
    {
     "name": "stdout",
     "output_type": "stream",
     "text": [
      "392/393 [============================>.] - ETA: 0s - loss: 6.2952 - mae: 1.2244\n",
      "Epoch 1: val_loss improved from inf to 0.72114, saving model to best_model.hdf5\n",
      "393/393 [==============================] - 15s 25ms/step - loss: 6.2916 - mae: 1.2240 - val_loss: 0.7211 - val_mae: 0.6152\n",
      "Epoch 2/20\n",
      "  7/393 [..............................] - ETA: 7s - loss: 0.7288 - mae: 0.5909"
     ]
    },
    {
     "name": "stderr",
     "output_type": "stream",
     "text": [
      "C:\\Users\\Administrator\\IdeaProjects\\DataAnalysis\\Chapter04\\AI_Study\\Lib\\site-packages\\keras\\src\\engine\\training.py:3103: UserWarning: You are saving your model as an HDF5 file via `model.save()`. This file format is considered legacy. We recommend using instead the native Keras format, e.g. `model.save('my_model.keras')`.\n",
      "  saving_api.save_model(\n"
     ]
    },
    {
     "name": "stdout",
     "output_type": "stream",
     "text": [
      "393/393 [==============================] - ETA: 0s - loss: 0.6531 - mae: 0.5644\n",
      "Epoch 2: val_loss improved from 0.72114 to 0.66555, saving model to best_model.hdf5\n",
      "393/393 [==============================] - 9s 23ms/step - loss: 0.6531 - mae: 0.5644 - val_loss: 0.6655 - val_mae: 0.5687\n",
      "Epoch 3/20\n",
      "391/393 [============================>.] - ETA: 0s - loss: 0.6234 - mae: 0.5504\n",
      "Epoch 3: val_loss improved from 0.66555 to 0.63248, saving model to best_model.hdf5\n",
      "393/393 [==============================] - 9s 23ms/step - loss: 0.6237 - mae: 0.5505 - val_loss: 0.6325 - val_mae: 0.5510\n",
      "Epoch 4/20\n",
      "392/393 [============================>.] - ETA: 0s - loss: 0.6232 - mae: 0.5510\n",
      "Epoch 4: val_loss did not improve from 0.63248\n",
      "393/393 [==============================] - 9s 23ms/step - loss: 0.6230 - mae: 0.5509 - val_loss: 0.6735 - val_mae: 0.5828\n",
      "Epoch 5/20\n",
      "391/393 [============================>.] - ETA: 0s - loss: 0.6118 - mae: 0.5433\n",
      "Epoch 5: val_loss did not improve from 0.63248\n",
      "393/393 [==============================] - 9s 22ms/step - loss: 0.6117 - mae: 0.5434 - val_loss: 0.7472 - val_mae: 0.6234\n",
      "Epoch 6/20\n",
      "391/393 [============================>.] - ETA: 0s - loss: 0.6091 - mae: 0.5425\n",
      "Epoch 6: val_loss improved from 0.63248 to 0.61498, saving model to best_model.hdf5\n",
      "393/393 [==============================] - 9s 22ms/step - loss: 0.6096 - mae: 0.5428 - val_loss: 0.6150 - val_mae: 0.5472\n",
      "Epoch 7/20\n",
      "391/393 [============================>.] - ETA: 0s - loss: 0.6118 - mae: 0.5438\n",
      "Epoch 7: val_loss did not improve from 0.61498\n",
      "393/393 [==============================] - 10s 25ms/step - loss: 0.6109 - mae: 0.5436 - val_loss: 0.6188 - val_mae: 0.5465\n",
      "Epoch 8/20\n",
      "391/393 [============================>.] - ETA: 0s - loss: 0.5928 - mae: 0.5320\n",
      "Epoch 8: val_loss did not improve from 0.61498\n",
      "393/393 [==============================] - 9s 23ms/step - loss: 0.5919 - mae: 0.5316 - val_loss: 0.6342 - val_mae: 0.5701\n",
      "Epoch 9/20\n",
      "392/393 [============================>.] - ETA: 0s - loss: 0.6040 - mae: 0.5406\n",
      "Epoch 9: val_loss did not improve from 0.61498\n",
      "393/393 [==============================] - 9s 23ms/step - loss: 0.6040 - mae: 0.5406 - val_loss: 0.6165 - val_mae: 0.5448\n"
     ]
    }
   ],
   "source": [
    "from tensorflow.keras.models import Sequential\n",
    "from tensorflow.keras.layers import SimpleRNN, LSTM, GRU, Dense, Input\n",
    "from tensorflow.keras.callbacks import ModelCheckpoint, EarlyStopping\n",
    "from tensorflow.keras.optimizers import Adam\n",
    "\n",
    "model = Sequential()\n",
    "model.add(Input((time_step, X_train.shape[2])))\n",
    "model.add(GRU(128, activation=\"tanh\", return_sequences=True))\n",
    "model.add(GRU(128, activation=\"tanh\"))\n",
    "model.add(Dense(128))\n",
    "model.add(Dense(1))\n",
    "model.compile(loss=\"mse\", optimizer=Adam(lr=0.0005), metrics=[\"mae\"])\n",
    "mc = ModelCheckpoint(filepath=\"best_model.hdf5\", save_best_only=True, verbose=1)\n",
    "es = EarlyStopping(patience=3)\n",
    "history = model.fit(X_train, y_train, validation_split=0.2, batch_size=100, epochs=20, callbacks=[es, mc])"
   ],
   "metadata": {
    "collapsed": false
   }
  },
  {
   "cell_type": "code",
   "execution_count": 11,
   "outputs": [
    {
     "name": "stdout",
     "output_type": "stream",
     "text": [
      "657/657 [==============================] - 5s 6ms/step - loss: 0.5545 - mae: 0.5139\n"
     ]
    },
    {
     "data": {
      "text/plain": "[0.5544702410697937, 0.5139329433441162]"
     },
     "execution_count": 11,
     "metadata": {},
     "output_type": "execute_result"
    }
   ],
   "source": [
    "from tensorflow.keras.models import load_model\n",
    "\n",
    "best_model = load_model(\"best_model.hdf5\")\n",
    "best_model.evaluate(X_test, y_test)"
   ],
   "metadata": {
    "collapsed": false
   }
  },
  {
   "cell_type": "code",
   "execution_count": 12,
   "outputs": [
    {
     "name": "stdout",
     "output_type": "stream",
     "text": [
      "657/657 [==============================] - 4s 5ms/step\n"
     ]
    },
    {
     "data": {
      "text/plain": "0.990885150129147"
     },
     "execution_count": 12,
     "metadata": {},
     "output_type": "execute_result"
    }
   ],
   "source": [
    "from sklearn.metrics import r2_score\n",
    "\n",
    "r2_score(y_test, best_model.predict(X_test))"
   ],
   "metadata": {
    "collapsed": false
   }
  },
  {
   "cell_type": "code",
   "execution_count": 13,
   "outputs": [
    {
     "data": {
      "text/plain": "<Figure size 640x480 with 1 Axes>",
      "image/png": "[encoded data removed]"
     },
     "metadata": {},
     "output_type": "display_data"
    }
   ],
   "source": [
    "loss = history.history[\"loss\"]\n",
    "val_loss = history.history[\"val_loss\"]\n",
    "x = np.arange(len(loss))\n",
    "plt.plot(x, loss)\n",
    "plt.plot(x, val_loss)\n",
    "plt.grid()\n",
    "plt.show()"
   ],
   "metadata": {
    "collapsed": false
   }
  },
  {
   "cell_type": "code",
   "execution_count": 14,
   "outputs": [
    {
     "data": {
      "text/plain": "                     Tdew (degC)  rh (%)  VPmax (mbar)  rho (g/m**3)  T (degC)\nDate Time                                                                     \n2016-12-31 17:10:00        -4.63   64.53          6.71       1270.29      1.29\n2016-12-31 18:10:00        -4.92   71.50          5.92       1278.14     -0.42\n2016-12-31 19:10:00        -5.36   72.00          5.69       1280.70     -0.98\n2016-12-31 20:10:00        -6.84   66.29          5.51       1281.87     -1.40\n2016-12-31 21:10:00        -6.90   72.90          4.99       1288.02     -2.75\n2016-12-31 22:10:00        -7.15   72.30          4.93       1288.03     -2.89\n2016-12-31 23:10:00        -8.09   72.60          4.56       1292.41     -3.93",
      "text/html": "<div>\n<style scoped>\n    .dataframe tbody tr th:only-of-type {\n        vertical-align: middle;\n    }\n\n    .dataframe tbody tr th {\n        vertical-align: top;\n    }\n\n    .dataframe thead th {\n        text-align: right;\n    }\n</style>\n<table border=\"1\" class=\"dataframe\">\n  <thead>\n    <tr style=\"text-align: right;\">\n      <th></th>\n      <th>Tdew (degC)</th>\n      <th>rh (%)</th>\n      <th>VPmax (mbar)</th>\n      <th>rho (g/m**3)</th>\n      <th>T (degC)</th>\n    </tr>\n    <tr>\n      <th>Date Time</th>\n      <th></th>\n      <th></th>\n      <th></th>\n      <th></th>\n      <th></th>\n    </tr>\n  </thead>\n  <tbody>\n    <tr>\n      <th>2016-12-31 17:10:00</th>\n      <td>-4.63</td>\n      <td>64.53</td>\n      <td>6.71</td>\n      <td>1270.29</td>\n      <td>1.29</td>\n    </tr>\n    <tr>\n      <th>2016-12-31 18:10:00</th>\n      <td>-4.92</td>\n      <td>71.50</td>\n      <td>5.92</td>\n      <td>1278.14</td>\n      <td>-0.42</td>\n    </tr>\n    <tr>\n      <th>2016-12-31 19:10:00</th>\n      <td>-5.36</td>\n      <td>72.00</td>\n      <td>5.69</td>\n      <td>1280.70</td>\n      <td>-0.98</td>\n    </tr>\n    <tr>\n      <th>2016-12-31 20:10:00</th>\n      <td>-6.84</td>\n      <td>66.29</td>\n      <td>5.51</td>\n      <td>1281.87</td>\n      <td>-1.40</td>\n    </tr>\n    <tr>\n      <th>2016-12-31 21:10:00</th>\n      <td>-6.90</td>\n      <td>72.90</td>\n      <td>4.99</td>\n      <td>1288.02</td>\n      <td>-2.75</td>\n    </tr>\n    <tr>\n      <th>2016-12-31 22:10:00</th>\n      <td>-7.15</td>\n      <td>72.30</td>\n      <td>4.93</td>\n      <td>1288.03</td>\n      <td>-2.89</td>\n    </tr>\n    <tr>\n      <th>2016-12-31 23:10:00</th>\n      <td>-8.09</td>\n      <td>72.60</td>\n      <td>4.56</td>\n      <td>1292.41</td>\n      <td>-3.93</td>\n    </tr>\n  </tbody>\n</table>\n</div>"
     },
     "execution_count": 14,
     "metadata": {},
     "output_type": "execute_result"
    }
   ],
   "source": [
    "input[-7:]"
   ],
   "metadata": {
    "collapsed": false
   }
  },
  {
   "cell_type": "code",
   "execution_count": 15,
   "outputs": [
    {
     "name": "stdout",
     "output_type": "stream",
     "text": [
      "1/1 [==============================] - 0s 30ms/step\n"
     ]
    },
    {
     "data": {
      "text/plain": "array([[-4.5700083]], dtype=float32)"
     },
     "execution_count": 15,
     "metadata": {},
     "output_type": "execute_result"
    }
   ],
   "source": [
    "best_model.predict(ss.transform(input[-10:]).reshape(1, 10, 5))"
   ],
   "metadata": {
    "collapsed": false
   }
  },
  {
   "cell_type": "code",
   "execution_count": 16,
   "outputs": [
    {
     "name": "stdout",
     "output_type": "stream",
     "text": [
      "1/1 [==============================] - 0s 27ms/step\n"
     ]
    },
    {
     "data": {
      "text/plain": "array([[-3.1866088]], dtype=float32)"
     },
     "execution_count": 16,
     "metadata": {},
     "output_type": "execute_result"
    }
   ],
   "source": [
    "best_model.predict(ss.transform(input[-11:-1]).reshape(1, 10, 5))"
   ],
   "metadata": {
    "collapsed": false
   }
  },
  {
   "cell_type": "markdown",
   "source": [
    "# 연속 이틀간의 기온 맞추기 Example"
   ],
   "metadata": {
    "collapsed": false
   }
  },
  {
   "cell_type": "code",
   "execution_count": 17,
   "outputs": [
    {
     "name": "stdout",
     "output_type": "stream",
     "text": [
      "num_data: 70067\n",
      "num_time_data: 70059\n",
      "num_test: 21018\n",
      "num_train: 49041\n",
      "train_index: 49047\n",
      "\n"
     ]
    }
   ],
   "source": [
    "num_data = len(target)\n",
    "print(\"num_data:\", num_data)\n",
    "time_step = 7\n",
    "num_time_data = num_data - time_step - 1\n",
    "print(\"num_time_data:\", num_time_data)\n",
    "test_size = 0.3\n",
    "num_test = int(np.ceil((num_time_data) * 0.3))\n",
    "print(\"num_test:\", num_test)\n",
    "num_train = num_time_data - num_test\n",
    "print(\"num_train:\", num_train)\n",
    "train_index = num_train + time_step - 1\n",
    "print(\"train_index:\", train_index)\n",
    "print()"
   ],
   "metadata": {
    "collapsed": false
   }
  },
  {
   "cell_type": "code",
   "execution_count": 18,
   "outputs": [
    {
     "data": {
      "text/plain": "(70067, 5)"
     },
     "execution_count": 18,
     "metadata": {},
     "output_type": "execute_result"
    }
   ],
   "source": [
    "#표준화\n",
    "#표준화\n",
    "from sklearn.preprocessing import StandardScaler\n",
    "\n",
    "ss = StandardScaler()\n",
    "ss.fit(input[:train_index])\n",
    "input_ss = ss.transform(input)\n",
    "input_ss.shape"
   ],
   "metadata": {
    "collapsed": false
   }
  },
  {
   "cell_type": "code",
   "execution_count": 20,
   "outputs": [
    {
     "name": "stdout",
     "output_type": "stream",
     "text": [
      "(70059, 7, 5) (70059, 2)\n"
     ]
    }
   ],
   "source": [
    "# 타임 데이터 구축\n",
    "def split_xy(input, target, time_step, n_out):\n",
    "    x, y = [], []\n",
    "    for i in range(len(target)):\n",
    "        end_time = i + time_step\n",
    "        if end_time + n_out - 1 >= len(target):\n",
    "            break\n",
    "        x_temp = input[i:end_time]\n",
    "        y_temp = target[end_time: end_time + n_out]\n",
    "        x.append(x_temp)\n",
    "        y.append(y_temp)\n",
    "    return np.array(x), np.array(y)\n",
    "\n",
    "\n",
    "x, y = split_xy(input_ss, target, time_step, 2)\n",
    "print(x.shape, y.shape)"
   ],
   "metadata": {
    "collapsed": false
   }
  },
  {
   "cell_type": "code",
   "execution_count": 21,
   "outputs": [
    {
     "data": {
      "text/plain": "((49041, 7, 5), (21018, 7, 5), (49041, 2), (21018, 2))"
     },
     "execution_count": 21,
     "metadata": {},
     "output_type": "execute_result"
    }
   ],
   "source": [
    "from sklearn.model_selection import train_test_split\n",
    "\n",
    "X_train, X_test, y_train, y_test = train_test_split(x, y, test_size=test_size, shuffle=False, random_state=7)\n",
    "X_train.shape, X_test.shape, y_train.shape, y_test.shape"
   ],
   "metadata": {
    "collapsed": false
   }
  },
  {
   "cell_type": "code",
   "execution_count": 22,
   "outputs": [
    {
     "name": "stdout",
     "output_type": "stream",
     "text": [
      "WARNING:tensorflow:From C:\\Users\\Administrator\\IdeaProjects\\DataAnalysis\\Chapter04\\AI_Study\\Lib\\site-packages\\keras\\src\\optimizers\\__init__.py:309: The name tf.train.Optimizer is deprecated. Please use tf.compat.v1.train.Optimizer instead.\n",
      "\n"
     ]
    },
    {
     "name": "stderr",
     "output_type": "stream",
     "text": [
      "WARNING:tensorflow:From C:\\Users\\Administrator\\IdeaProjects\\DataAnalysis\\Chapter04\\AI_Study\\Lib\\site-packages\\keras\\src\\optimizers\\__init__.py:309: The name tf.train.Optimizer is deprecated. Please use tf.compat.v1.train.Optimizer instead.\n",
      "\n"
     ]
    },
    {
     "name": "stdout",
     "output_type": "stream",
     "text": [
      "Epoch 1/20\n",
      "391/393 [============================>.] - ETA: 0s - loss: 5.3883 - mae: 1.2652\n",
      "Epoch 1: val_loss improved from inf to 1.44492, saving model to best_model.hdf5\n",
      "393/393 [==============================] - 12s 22ms/step - loss: 5.3746 - mae: 1.2638 - val_loss: 1.4449 - val_mae: 0.8707\n",
      "Epoch 2/20\n",
      "  7/393 [..............................] - ETA: 6s - loss: 1.4305 - mae: 0.8399"
     ]
    },
    {
     "name": "stderr",
     "output_type": "stream",
     "text": [
      "C:\\Users\\Administrator\\IdeaProjects\\DataAnalysis\\Chapter04\\AI_Study\\Lib\\site-packages\\keras\\src\\engine\\training.py:3103: UserWarning: You are saving your model as an HDF5 file via `model.save()`. This file format is considered legacy. We recommend using instead the native Keras format, e.g. `model.save('my_model.keras')`.\n",
      "  saving_api.save_model(\n"
     ]
    },
    {
     "name": "stdout",
     "output_type": "stream",
     "text": [
      "392/393 [============================>.] - ETA: 0s - loss: 1.3007 - mae: 0.7919\n",
      "Epoch 2: val_loss improved from 1.44492 to 1.26508, saving model to best_model.hdf5\n",
      "393/393 [==============================] - 8s 20ms/step - loss: 1.3015 - mae: 0.7921 - val_loss: 1.2651 - val_mae: 0.7863\n",
      "Epoch 3/20\n",
      "391/393 [============================>.] - ETA: 0s - loss: 1.2593 - mae: 0.7790\n",
      "Epoch 3: val_loss improved from 1.26508 to 1.23305, saving model to best_model.hdf5\n",
      "393/393 [==============================] - 8s 20ms/step - loss: 1.2592 - mae: 0.7791 - val_loss: 1.2330 - val_mae: 0.7661\n",
      "Epoch 4/20\n",
      "391/393 [============================>.] - ETA: 0s - loss: 1.2221 - mae: 0.7630\n",
      "Epoch 4: val_loss did not improve from 1.23305\n",
      "393/393 [==============================] - 8s 20ms/step - loss: 1.2218 - mae: 0.7629 - val_loss: 1.2904 - val_mae: 0.7775\n",
      "Epoch 5/20\n",
      "391/393 [============================>.] - ETA: 0s - loss: 1.2134 - mae: 0.7592\n",
      "Epoch 5: val_loss did not improve from 1.23305\n",
      "393/393 [==============================] - 8s 19ms/step - loss: 1.2123 - mae: 0.7588 - val_loss: 1.3073 - val_mae: 0.7905\n",
      "Epoch 6/20\n",
      "390/393 [============================>.] - ETA: 0s - loss: 1.1887 - mae: 0.7480\n",
      "Epoch 6: val_loss did not improve from 1.23305\n",
      "393/393 [==============================] - 7s 19ms/step - loss: 1.1875 - mae: 0.7478 - val_loss: 1.2599 - val_mae: 0.7851\n",
      "Epoch 7/20\n",
      "393/393 [==============================] - ETA: 0s - loss: 1.1866 - mae: 0.7492\n",
      "Epoch 7: val_loss improved from 1.23305 to 1.19102, saving model to best_model.hdf5\n",
      "393/393 [==============================] - 8s 20ms/step - loss: 1.1866 - mae: 0.7492 - val_loss: 1.1910 - val_mae: 0.7489\n",
      "Epoch 8/20\n",
      "393/393 [==============================] - ETA: 0s - loss: 1.1754 - mae: 0.7462\n",
      "Epoch 8: val_loss did not improve from 1.19102\n",
      "393/393 [==============================] - 8s 19ms/step - loss: 1.1754 - mae: 0.7462 - val_loss: 1.2033 - val_mae: 0.7711\n",
      "Epoch 9/20\n",
      "392/393 [============================>.] - ETA: 0s - loss: 1.1709 - mae: 0.7418\n",
      "Epoch 9: val_loss improved from 1.19102 to 1.18396, saving model to best_model.hdf5\n",
      "393/393 [==============================] - 8s 20ms/step - loss: 1.1708 - mae: 0.7419 - val_loss: 1.1840 - val_mae: 0.7568\n",
      "Epoch 10/20\n",
      "392/393 [============================>.] - ETA: 0s - loss: 1.1582 - mae: 0.7373\n",
      "Epoch 10: val_loss did not improve from 1.18396\n",
      "393/393 [==============================] - 8s 20ms/step - loss: 1.1582 - mae: 0.7373 - val_loss: 1.2883 - val_mae: 0.7973\n",
      "Epoch 11/20\n",
      "390/393 [============================>.] - ETA: 0s - loss: 1.1408 - mae: 0.7313\n",
      "Epoch 11: val_loss improved from 1.18396 to 1.15287, saving model to best_model.hdf5\n",
      "393/393 [==============================] - 8s 20ms/step - loss: 1.1397 - mae: 0.7312 - val_loss: 1.1529 - val_mae: 0.7417\n",
      "Epoch 12/20\n",
      "393/393 [==============================] - ETA: 0s - loss: 1.1285 - mae: 0.7249\n",
      "Epoch 12: val_loss did not improve from 1.15287\n",
      "393/393 [==============================] - 8s 20ms/step - loss: 1.1285 - mae: 0.7249 - val_loss: 1.1974 - val_mae: 0.7477\n",
      "Epoch 13/20\n",
      "393/393 [==============================] - ETA: 0s - loss: 1.1494 - mae: 0.7357\n",
      "Epoch 13: val_loss did not improve from 1.15287\n",
      "393/393 [==============================] - 8s 20ms/step - loss: 1.1494 - mae: 0.7357 - val_loss: 1.4436 - val_mae: 0.8884\n",
      "Epoch 14/20\n",
      "391/393 [============================>.] - ETA: 0s - loss: 1.1262 - mae: 0.7254\n",
      "Epoch 14: val_loss did not improve from 1.15287\n",
      "393/393 [==============================] - 8s 19ms/step - loss: 1.1266 - mae: 0.7256 - val_loss: 1.2556 - val_mae: 0.7889\n",
      "Epoch 15/20\n",
      "390/393 [============================>.] - ETA: 0s - loss: 1.1093 - mae: 0.7191\n",
      "Epoch 15: val_loss did not improve from 1.15287\n",
      "393/393 [==============================] - 8s 20ms/step - loss: 1.1097 - mae: 0.7193 - val_loss: 1.3421 - val_mae: 0.8297\n",
      "Epoch 16/20\n",
      "393/393 [==============================] - ETA: 0s - loss: 1.1169 - mae: 0.7230\n",
      "Epoch 16: val_loss did not improve from 1.15287\n",
      "393/393 [==============================] - 8s 20ms/step - loss: 1.1169 - mae: 0.7230 - val_loss: 1.1725 - val_mae: 0.7489\n"
     ]
    }
   ],
   "source": [
    "from tensorflow.keras.models import Sequential\n",
    "from tensorflow.keras.layers import SimpleRNN, LSTM, GRU, Dense, Input\n",
    "from tensorflow.keras.callbacks import ModelCheckpoint, EarlyStopping\n",
    "from tensorflow.keras.optimizers import Adam\n",
    "\n",
    "model = Sequential()\n",
    "model.add(Input((time_step, X_train.shape[2])))\n",
    "model.add(GRU(256, activation=\"tanh\", return_sequences=True))\n",
    "model.add(GRU(128, activation=\"tanh\"))\n",
    "model.add(Dense(128))\n",
    "model.add(Dense(128))\n",
    "model.add(Dense(2))\n",
    "model.compile(loss=\"mse\", optimizer=\"adam\", metrics=[\"mae\"])\n",
    "mc = ModelCheckpoint(filepath=\"best_model.hdf5\", save_best_only=True, verbose=1)\n",
    "es = EarlyStopping(patience=5)\n",
    "history = model.fit(X_train, y_train, validation_split=0.2, batch_size=100, epochs=20, callbacks=[es, mc])"
   ],
   "metadata": {
    "collapsed": false
   }
  },
  {
   "cell_type": "code",
   "execution_count": 23,
   "outputs": [
    {
     "name": "stdout",
     "output_type": "stream",
     "text": [
      "657/657 [==============================] - 3s 3ms/step\n",
      "657/657 [==============================] - 2s 3ms/step\n"
     ]
    },
    {
     "data": {
      "text/plain": "0.9897826195616675"
     },
     "execution_count": 23,
     "metadata": {},
     "output_type": "execute_result"
    }
   ],
   "source": [
    "best_model.predict(X_test)\n",
    "r2_score(y_test[:, 0], best_model.predict(X_test)[:, 0])"
   ],
   "metadata": {
    "collapsed": false
   }
  },
  {
   "cell_type": "code",
   "execution_count": 24,
   "outputs": [
    {
     "name": "stdout",
     "output_type": "stream",
     "text": [
      "657/657 [==============================] - 2s 3ms/step\n"
     ]
    },
    {
     "ename": "IndexError",
     "evalue": "index 1 is out of bounds for axis 1 with size 1",
     "output_type": "error",
     "traceback": [
      "\u001B[1;31m---------------------------------------------------------------------------\u001B[0m",
      "\u001B[1;31mIndexError\u001B[0m                                Traceback (most recent call last)",
      "Cell \u001B[1;32mIn[24], line 1\u001B[0m\n\u001B[1;32m----> 1\u001B[0m r2_score(y_test[:, \u001B[38;5;241m1\u001B[39m], \u001B[43mbest_model\u001B[49m\u001B[38;5;241;43m.\u001B[39;49m\u001B[43mpredict\u001B[49m\u001B[43m(\u001B[49m\u001B[43mX_test\u001B[49m\u001B[43m)\u001B[49m\u001B[43m[\u001B[49m\u001B[43m:\u001B[49m\u001B[43m,\u001B[49m\u001B[43m \u001B[49m\u001B[38;5;241;43m1\u001B[39;49m\u001B[43m]\u001B[49m)\n",
      "\u001B[1;31mIndexError\u001B[0m: index 1 is out of bounds for axis 1 with size 1"
     ]
    }
   ],
   "source": [
    "r2_score(y_test[:, 1], best_model.predict(X_test)[:, 1])"
   ],
   "metadata": {
    "collapsed": false
   }
  },
  {
   "cell_type": "code",
   "execution_count": 25,
   "outputs": [
    {
     "name": "stdout",
     "output_type": "stream",
     "text": [
      "Downloading data from https://storage.googleapis.com/tensorflow/tf-keras-datasets/mnist.npz\n",
      "11490434/11490434 [==============================] - 1s 0us/step\n",
      "(60000, 28, 28)\n",
      "(10000, 28, 28)\n"
     ]
    }
   ],
   "source": [
    "from keras.datasets import mnist\n",
    "\n",
    "(X_train, y_train), (X_test, y_test) = mnist.load_data()\n",
    "print(X_train.shape)\n",
    "print(X_test.shape)"
   ],
   "metadata": {
    "collapsed": false
   }
  },
  {
   "cell_type": "code",
   "execution_count": 26,
   "outputs": [
    {
     "data": {
      "text/plain": "<matplotlib.image.AxesImage at 0x1f762369710>"
     },
     "execution_count": 26,
     "metadata": {},
     "output_type": "execute_result"
    },
    {
     "data": {
      "text/plain": "<Figure size 640x480 with 1 Axes>",
      "image/png": "[encoded data removed]"
     },
     "metadata": {},
     "output_type": "display_data"
    }
   ],
   "source": [
    "import matplotlib.pyplot as plt\n",
    "\n",
    "plt.imshow(X_train[0], cmap=\"Greys\")"
   ],
   "metadata": {
    "collapsed": false
   }
  },
  {
   "cell_type": "code",
   "execution_count": 27,
   "outputs": [
    {
     "data": {
      "text/plain": "5"
     },
     "execution_count": 27,
     "metadata": {},
     "output_type": "execute_result"
    }
   ],
   "source": [
    "y_train[0]"
   ],
   "metadata": {
    "collapsed": false
   }
  },
  {
   "cell_type": "code",
   "execution_count": 28,
   "outputs": [
    {
     "data": {
      "text/plain": "((60000, 28, 28, 1), (60000, 10), (10000, 28, 28, 1), (10000, 10))"
     },
     "execution_count": 28,
     "metadata": {},
     "output_type": "execute_result"
    }
   ],
   "source": [
    "X_train = X_train.reshape(60000, 28, 28, 1)\n",
    "X_test = X_test.reshape(10000, 28, 28, 1)\n",
    "from tensorflow.keras.utils import to_categorical\n",
    "\n",
    "y_train_onehot = to_categorical(y_train, 10)\n",
    "y_test_onehot = to_categorical(y_test, 10)\n",
    "X_train.shape, y_train_onehot.shape, X_test.shape, y_test_onehot.shape"
   ],
   "metadata": {
    "collapsed": false
   }
  },
  {
   "cell_type": "code",
   "execution_count": 29,
   "outputs": [
    {
     "name": "stdout",
     "output_type": "stream",
     "text": [
      "WARNING:tensorflow:From C:\\Users\\Administrator\\IdeaProjects\\DataAnalysis\\Chapter04\\AI_Study\\Lib\\site-packages\\keras\\src\\layers\\pooling\\max_pooling2d.py:161: The name tf.nn.max_pool is deprecated. Please use tf.nn.max_pool2d instead.\n",
      "\n"
     ]
    },
    {
     "name": "stderr",
     "output_type": "stream",
     "text": [
      "WARNING:tensorflow:From C:\\Users\\Administrator\\IdeaProjects\\DataAnalysis\\Chapter04\\AI_Study\\Lib\\site-packages\\keras\\src\\layers\\pooling\\max_pooling2d.py:161: The name tf.nn.max_pool is deprecated. Please use tf.nn.max_pool2d instead.\n",
      "\n"
     ]
    },
    {
     "name": "stdout",
     "output_type": "stream",
     "text": [
      "Model: \"sequential_2\"\n",
      "_________________________________________________________________\n",
      " Layer (type)                Output Shape              Param #   \n",
      "=================================================================\n",
      " conv2d (Conv2D)             (None, 26, 26, 64)        640       \n",
      "                                                                 \n",
      " conv2d_1 (Conv2D)           (None, 24, 24, 64)        36928     \n",
      "                                                                 \n",
      " max_pooling2d (MaxPooling2  (None, 12, 12, 64)        0         \n",
      " D)                                                              \n",
      "                                                                 \n",
      " flatten (Flatten)           (None, 9216)              0         \n",
      "                                                                 \n",
      " dropout (Dropout)           (None, 9216)              0         \n",
      "                                                                 \n",
      " dense_5 (Dense)             (None, 128)               1179776   \n",
      "                                                                 \n",
      " dense_6 (Dense)             (None, 10)                1290      \n",
      "                                                                 \n",
      "=================================================================\n",
      "Total params: 1218634 (4.65 MB)\n",
      "Trainable params: 1218634 (4.65 MB)\n",
      "Non-trainable params: 0 (0.00 Byte)\n",
      "_________________________________________________________________\n"
     ]
    }
   ],
   "source": [
    "from tensorflow.keras.layers import Conv2D, MaxPooling2D, Dropout, Flatten, Input\n",
    "\n",
    "model = Sequential()\n",
    "model.add(Input((28, 28, 1)))\n",
    "model.add(Conv2D(64, kernel_size=(3, 3), activation=\"relu\"))\n",
    "model.add(Conv2D(64, kernel_size=(3, 3), activation=\"relu\"))\n",
    "model.add(MaxPooling2D(pool_size=2))\n",
    "model.add(Flatten())\n",
    "model.add(Dropout(0.5))\n",
    "model.add(Dense(128, activation=\"relu\"))\n",
    "model.add(Dense(10, activation=\"softmax\"))\n",
    "model.summary()"
   ],
   "metadata": {
    "collapsed": false
   }
  },
  {
   "cell_type": "code",
   "execution_count": 30,
   "outputs": [
    {
     "name": "stdout",
     "output_type": "stream",
     "text": [
      "Epoch 1/20\n",
      "599/600 [============================>.] - ETA: 0s - loss: 0.3417 - accuracy: 0.9399\n",
      "Epoch 1: val_loss improved from inf to 0.05703, saving model to best_model.hdf5\n",
      "600/600 [==============================] - 32s 52ms/step - loss: 0.3413 - accuracy: 0.9399 - val_loss: 0.0570 - val_accuracy: 0.9805\n",
      "Epoch 2/20\n",
      "  3/600 [..............................] - ETA: 30s - loss: 0.0469 - accuracy: 0.9800"
     ]
    },
    {
     "name": "stderr",
     "output_type": "stream",
     "text": [
      "C:\\Users\\Administrator\\IdeaProjects\\DataAnalysis\\Chapter04\\AI_Study\\Lib\\site-packages\\keras\\src\\engine\\training.py:3103: UserWarning: You are saving your model as an HDF5 file via `model.save()`. This file format is considered legacy. We recommend using instead the native Keras format, e.g. `model.save('my_model.keras')`.\n",
      "  saving_api.save_model(\n"
     ]
    },
    {
     "name": "stdout",
     "output_type": "stream",
     "text": [
      "600/600 [==============================] - ETA: 0s - loss: 0.0771 - accuracy: 0.9766\n",
      "Epoch 2: val_loss improved from 0.05703 to 0.04715, saving model to best_model.hdf5\n",
      "600/600 [==============================] - 29s 49ms/step - loss: 0.0771 - accuracy: 0.9766 - val_loss: 0.0472 - val_accuracy: 0.9850\n",
      "Epoch 3/20\n",
      "599/600 [============================>.] - ETA: 0s - loss: 0.0589 - accuracy: 0.9815\n",
      "Epoch 3: val_loss did not improve from 0.04715\n",
      "600/600 [==============================] - 30s 50ms/step - loss: 0.0590 - accuracy: 0.9814 - val_loss: 0.0516 - val_accuracy: 0.9850\n",
      "Epoch 4/20\n",
      "600/600 [==============================] - ETA: 0s - loss: 0.0441 - accuracy: 0.9860\n",
      "Epoch 4: val_loss improved from 0.04715 to 0.04272, saving model to best_model.hdf5\n",
      "600/600 [==============================] - 31s 52ms/step - loss: 0.0441 - accuracy: 0.9860 - val_loss: 0.0427 - val_accuracy: 0.9879\n",
      "Epoch 5/20\n",
      "600/600 [==============================] - ETA: 0s - loss: 0.0393 - accuracy: 0.9874\n",
      "Epoch 5: val_loss improved from 0.04272 to 0.03655, saving model to best_model.hdf5\n",
      "600/600 [==============================] - 29s 49ms/step - loss: 0.0393 - accuracy: 0.9874 - val_loss: 0.0366 - val_accuracy: 0.9895\n",
      "Epoch 6/20\n",
      "600/600 [==============================] - ETA: 0s - loss: 0.0349 - accuracy: 0.9888\n",
      "Epoch 6: val_loss did not improve from 0.03655\n",
      "600/600 [==============================] - 28s 47ms/step - loss: 0.0349 - accuracy: 0.9888 - val_loss: 0.0369 - val_accuracy: 0.9902\n",
      "Epoch 7/20\n",
      "599/600 [============================>.] - ETA: 0s - loss: 0.0311 - accuracy: 0.9900\n",
      "Epoch 7: val_loss did not improve from 0.03655\n",
      "600/600 [==============================] - 27s 46ms/step - loss: 0.0310 - accuracy: 0.9900 - val_loss: 0.0412 - val_accuracy: 0.9870\n",
      "Epoch 8/20\n",
      "599/600 [============================>.] - ETA: 0s - loss: 0.0289 - accuracy: 0.9906\n",
      "Epoch 8: val_loss did not improve from 0.03655\n",
      "600/600 [==============================] - 28s 47ms/step - loss: 0.0289 - accuracy: 0.9906 - val_loss: 0.0397 - val_accuracy: 0.9888\n",
      "Epoch 9/20\n",
      "599/600 [============================>.] - ETA: 0s - loss: 0.0249 - accuracy: 0.9920\n",
      "Epoch 9: val_loss did not improve from 0.03655\n",
      "600/600 [==============================] - 28s 46ms/step - loss: 0.0250 - accuracy: 0.9920 - val_loss: 0.0464 - val_accuracy: 0.9876\n",
      "Epoch 10/20\n",
      "600/600 [==============================] - ETA: 0s - loss: 0.0254 - accuracy: 0.9922\n",
      "Epoch 10: val_loss did not improve from 0.03655\n",
      "600/600 [==============================] - 29s 48ms/step - loss: 0.0254 - accuracy: 0.9922 - val_loss: 0.0484 - val_accuracy: 0.9870\n"
     ]
    }
   ],
   "source": [
    "model.compile(loss=\"categorical_crossentropy\", optimizer=\"adam\", metrics=[\"accuracy\"])\n",
    "mc = ModelCheckpoint(filepath=\"best_model.hdf5\", save_best_only=True, verbose=1)\n",
    "es = EarlyStopping(patience=5)\n",
    "history = model.fit(X_train, y_train_onehot, validation_data=(X_test, y_test_onehot), batch_size=100, epochs=20,\n",
    "                    callbacks=[es, mc])"
   ],
   "metadata": {
    "collapsed": false
   }
  },
  {
   "cell_type": "code",
   "execution_count": 31,
   "outputs": [
    {
     "data": {
      "text/plain": "<matplotlib.image.AxesImage at 0x1f768686fd0>"
     },
     "execution_count": 31,
     "metadata": {},
     "output_type": "execute_result"
    },
    {
     "data": {
      "text/plain": "<Figure size 640x480 with 1 Axes>",
      "image/png": "[encoded data removed]"
     },
     "metadata": {},
     "output_type": "display_data"
    }
   ],
   "source": [
    "plt.imshow(X_test.squeeze()[-2:][0], cmap=\"Greys\")"
   ],
   "metadata": {
    "collapsed": false
   }
  },
  {
   "cell_type": "code",
   "execution_count": 32,
   "outputs": [
    {
     "data": {
      "text/plain": "<matplotlib.image.AxesImage at 0x1f76e523150>"
     },
     "execution_count": 32,
     "metadata": {},
     "output_type": "execute_result"
    },
    {
     "data": {
      "text/plain": "<Figure size 640x480 with 1 Axes>",
      "image/png": "[encoded data removed]"
     },
     "metadata": {},
     "output_type": "display_data"
    }
   ],
   "source": [
    "plt.imshow(X_test.squeeze()[-2:][1], cmap=\"Greys\")"
   ],
   "metadata": {
    "collapsed": false
   }
  },
  {
   "cell_type": "code",
   "execution_count": 33,
   "outputs": [
    {
     "name": "stdout",
     "output_type": "stream",
     "text": [
      "1/1 [==============================] - 0s 58ms/step\n"
     ]
    },
    {
     "data": {
      "text/plain": "5"
     },
     "execution_count": 33,
     "metadata": {},
     "output_type": "execute_result"
    }
   ],
   "source": [
    "model.predict(X_test[-2:])[0].argmax()"
   ],
   "metadata": {
    "collapsed": false
   }
  },
  {
   "cell_type": "code",
   "execution_count": 34,
   "outputs": [
    {
     "name": "stdout",
     "output_type": "stream",
     "text": [
      "1/1 [==============================] - 0s 23ms/step\n"
     ]
    },
    {
     "data": {
      "text/plain": "6"
     },
     "execution_count": 34,
     "metadata": {},
     "output_type": "execute_result"
    }
   ],
   "source": [
    "model.predict(X_test[-2:])[1].argmax()"
   ],
   "metadata": {
    "collapsed": false
   }
  },
  {
   "cell_type": "markdown",
   "source": [
    "# day 단위 평균 기온 예측 :RNN 적용 시계열 예측"
   ],
   "metadata": {
    "collapsed": false
   }
  },
  {
   "cell_type": "code",
   "execution_count": 36,
   "outputs": [
    {
     "name": "stdout",
     "output_type": "stream",
     "text": [
      "Epoch 1/200\n"
     ]
    },
    {
     "ename": "ValueError",
     "evalue": "in user code:\n\n    File \"C:\\Users\\Administrator\\IdeaProjects\\DataAnalysis\\Chapter04\\AI_Study\\Lib\\site-packages\\keras\\src\\engine\\training.py\", line 1401, in train_function  *\n        return step_function(self, iterator)\n    File \"C:\\Users\\Administrator\\IdeaProjects\\DataAnalysis\\Chapter04\\AI_Study\\Lib\\site-packages\\keras\\src\\engine\\training.py\", line 1384, in step_function  **\n        outputs = model.distribute_strategy.run(run_step, args=(data,))\n    File \"C:\\Users\\Administrator\\IdeaProjects\\DataAnalysis\\Chapter04\\AI_Study\\Lib\\site-packages\\keras\\src\\engine\\training.py\", line 1373, in run_step  **\n        outputs = model.train_step(data)\n    File \"C:\\Users\\Administrator\\IdeaProjects\\DataAnalysis\\Chapter04\\AI_Study\\Lib\\site-packages\\keras\\src\\engine\\training.py\", line 1150, in train_step\n        y_pred = self(x, training=True)\n    File \"C:\\Users\\Administrator\\IdeaProjects\\DataAnalysis\\Chapter04\\AI_Study\\Lib\\site-packages\\keras\\src\\utils\\traceback_utils.py\", line 70, in error_handler\n        raise e.with_traceback(filtered_tb) from None\n    File \"C:\\Users\\Administrator\\IdeaProjects\\DataAnalysis\\Chapter04\\AI_Study\\Lib\\site-packages\\keras\\src\\engine\\input_spec.py\", line 298, in assert_input_compatibility\n        raise ValueError(\n\n    ValueError: Input 0 of layer \"sequential_3\" is incompatible with the layer: expected shape=(None, 7, 5), found shape=(100, 28, 28, 1)\n",
     "output_type": "error",
     "traceback": [
      "\u001B[1;31m---------------------------------------------------------------------------\u001B[0m",
      "\u001B[1;31mValueError\u001B[0m                                Traceback (most recent call last)",
      "Cell \u001B[1;32mIn[36], line 15\u001B[0m\n\u001B[0;32m     13\u001B[0m mc \u001B[38;5;241m=\u001B[39m ModelCheckpoint(filepath\u001B[38;5;241m=\u001B[39m\u001B[38;5;124m\"\u001B[39m\u001B[38;5;124mbest_model.hdf5\u001B[39m\u001B[38;5;124m\"\u001B[39m, save_best_only\u001B[38;5;241m=\u001B[39m\u001B[38;5;28;01mTrue\u001B[39;00m, verbose\u001B[38;5;241m=\u001B[39m\u001B[38;5;241m1\u001B[39m)\n\u001B[0;32m     14\u001B[0m es \u001B[38;5;241m=\u001B[39m EarlyStopping(patience\u001B[38;5;241m=\u001B[39m\u001B[38;5;241m10\u001B[39m)\n\u001B[1;32m---> 15\u001B[0m history \u001B[38;5;241m=\u001B[39m \u001B[43mmodel\u001B[49m\u001B[38;5;241;43m.\u001B[39;49m\u001B[43mfit\u001B[49m\u001B[43m(\u001B[49m\u001B[43mX_train\u001B[49m\u001B[43m,\u001B[49m\u001B[43m \u001B[49m\u001B[43my_train\u001B[49m\u001B[43m,\u001B[49m\u001B[43m \u001B[49m\u001B[43mvalidation_split\u001B[49m\u001B[38;5;241;43m=\u001B[39;49m\u001B[38;5;241;43m0.2\u001B[39;49m\u001B[43m,\u001B[49m\u001B[43m \u001B[49m\u001B[43mbatch_size\u001B[49m\u001B[38;5;241;43m=\u001B[39;49m\u001B[38;5;241;43m100\u001B[39;49m\u001B[43m,\u001B[49m\u001B[43m \u001B[49m\u001B[43mepochs\u001B[49m\u001B[38;5;241;43m=\u001B[39;49m\u001B[38;5;241;43m200\u001B[39;49m\u001B[43m,\u001B[49m\u001B[43m \u001B[49m\u001B[43mcallbacks\u001B[49m\u001B[38;5;241;43m=\u001B[39;49m\u001B[43m[\u001B[49m\u001B[43mes\u001B[49m\u001B[43m,\u001B[49m\u001B[43m \u001B[49m\u001B[43mmc\u001B[49m\u001B[43m]\u001B[49m\u001B[43m)\u001B[49m\n",
      "File \u001B[1;32m~\\IdeaProjects\\DataAnalysis\\Chapter04\\AI_Study\\Lib\\site-packages\\keras\\src\\utils\\traceback_utils.py:70\u001B[0m, in \u001B[0;36mfilter_traceback.<locals>.error_handler\u001B[1;34m(*args, **kwargs)\u001B[0m\n\u001B[0;32m     67\u001B[0m     filtered_tb \u001B[38;5;241m=\u001B[39m _process_traceback_frames(e\u001B[38;5;241m.\u001B[39m__traceback__)\n\u001B[0;32m     68\u001B[0m     \u001B[38;5;66;03m# To get the full stack trace, call:\u001B[39;00m\n\u001B[0;32m     69\u001B[0m     \u001B[38;5;66;03m# `tf.debugging.disable_traceback_filtering()`\u001B[39;00m\n\u001B[1;32m---> 70\u001B[0m     \u001B[38;5;28;01mraise\u001B[39;00m e\u001B[38;5;241m.\u001B[39mwith_traceback(filtered_tb) \u001B[38;5;28;01mfrom\u001B[39;00m \u001B[38;5;28;01mNone\u001B[39;00m\n\u001B[0;32m     71\u001B[0m \u001B[38;5;28;01mfinally\u001B[39;00m:\n\u001B[0;32m     72\u001B[0m     \u001B[38;5;28;01mdel\u001B[39;00m filtered_tb\n",
      "File \u001B[1;32mC:\\Users\\ADMINI~1\\AppData\\Local\\Temp\\__autograph_generated_filesaxtarnu.py:15\u001B[0m, in \u001B[0;36mouter_factory.<locals>.inner_factory.<locals>.tf__train_function\u001B[1;34m(iterator)\u001B[0m\n\u001B[0;32m     13\u001B[0m \u001B[38;5;28;01mtry\u001B[39;00m:\n\u001B[0;32m     14\u001B[0m     do_return \u001B[38;5;241m=\u001B[39m \u001B[38;5;28;01mTrue\u001B[39;00m\n\u001B[1;32m---> 15\u001B[0m     retval_ \u001B[38;5;241m=\u001B[39m ag__\u001B[38;5;241m.\u001B[39mconverted_call(ag__\u001B[38;5;241m.\u001B[39mld(step_function), (ag__\u001B[38;5;241m.\u001B[39mld(\u001B[38;5;28mself\u001B[39m), ag__\u001B[38;5;241m.\u001B[39mld(iterator)), \u001B[38;5;28;01mNone\u001B[39;00m, fscope)\n\u001B[0;32m     16\u001B[0m \u001B[38;5;28;01mexcept\u001B[39;00m:\n\u001B[0;32m     17\u001B[0m     do_return \u001B[38;5;241m=\u001B[39m \u001B[38;5;28;01mFalse\u001B[39;00m\n",
      "\u001B[1;31mValueError\u001B[0m: in user code:\n\n    File \"C:\\Users\\Administrator\\IdeaProjects\\DataAnalysis\\Chapter04\\AI_Study\\Lib\\site-packages\\keras\\src\\engine\\training.py\", line 1401, in train_function  *\n        return step_function(self, iterator)\n    File \"C:\\Users\\Administrator\\IdeaProjects\\DataAnalysis\\Chapter04\\AI_Study\\Lib\\site-packages\\keras\\src\\engine\\training.py\", line 1384, in step_function  **\n        outputs = model.distribute_strategy.run(run_step, args=(data,))\n    File \"C:\\Users\\Administrator\\IdeaProjects\\DataAnalysis\\Chapter04\\AI_Study\\Lib\\site-packages\\keras\\src\\engine\\training.py\", line 1373, in run_step  **\n        outputs = model.train_step(data)\n    File \"C:\\Users\\Administrator\\IdeaProjects\\DataAnalysis\\Chapter04\\AI_Study\\Lib\\site-packages\\keras\\src\\engine\\training.py\", line 1150, in train_step\n        y_pred = self(x, training=True)\n    File \"C:\\Users\\Administrator\\IdeaProjects\\DataAnalysis\\Chapter04\\AI_Study\\Lib\\site-packages\\keras\\src\\utils\\traceback_utils.py\", line 70, in error_handler\n        raise e.with_traceback(filtered_tb) from None\n    File \"C:\\Users\\Administrator\\IdeaProjects\\DataAnalysis\\Chapter04\\AI_Study\\Lib\\site-packages\\keras\\src\\engine\\input_spec.py\", line 298, in assert_input_compatibility\n        raise ValueError(\n\n    ValueError: Input 0 of layer \"sequential_3\" is incompatible with the layer: expected shape=(None, 7, 5), found shape=(100, 28, 28, 1)\n"
     ]
    }
   ],
   "source": [
    "from tensorflow.keras.models import Sequential\n",
    "from tensorflow.keras.layers import SimpleRNN, LSTM, GRU, Dense, Input\n",
    "from tensorflow.keras.callbacks import ModelCheckpoint, EarlyStopping\n",
    "from tensorflow.keras.optimizers import Adam\n",
    "\n",
    "model = Sequential()\n",
    "model.add(Input((7, 5)))\n",
    "model.add(GRU(128, activation=\"tanh\", return_sequences=True))\n",
    "model.add(GRU(128, activation=\"tanh\"))\n",
    "model.add(Dense(128))\n",
    "model.add(Dense(1))\n",
    "model.compile(loss=\"mse\", optimizer=\"adam\", metrics=[\"mae\"])\n",
    "mc = ModelCheckpoint(filepath=\"best_model.hdf5\", save_best_only=True, verbose=1)\n",
    "es = EarlyStopping(patience=10)\n",
    "history = model.fit(X_train, y_train, validation_split=0.2, batch_size=100, epochs=200, callbacks=[es, mc])"
   ],
   "metadata": {
    "collapsed": false
   }
  },
  {
   "cell_type": "code",
   "execution_count": null,
   "outputs": [],
   "source": [],
   "metadata": {
    "collapsed": false
   }
  }
 ],
 "metadata": {
  "kernelspec": {
   "display_name": "Python 3",
   "language": "python",
   "name": "python3"
  },
  "language_info": {
   "codemirror_mode": {
    "name": "ipython",
    "version": 2
   },
   "file_extension": ".py",
   "mimetype": "text/x-python",
   "name": "python",
   "nbconvert_exporter": "python",
   "pygments_lexer": "ipython2",
   "version": "2.7.6"
  }
 },
 "nbformat": 4,
 "nbformat_minor": 0
}
